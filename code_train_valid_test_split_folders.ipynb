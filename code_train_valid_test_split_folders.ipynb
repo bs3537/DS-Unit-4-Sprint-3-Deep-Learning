{
  "nbformat": 4,
  "nbformat_minor": 0,
  "metadata": {
    "colab": {
      "name": "code_train_valid_test_split_folders.ipynb",
      "provenance": [],
      "machine_shape": "hm",
      "mount_file_id": "14crH41jsVhnyIb1il2zDH1R3C2Lqah5B",
      "authorship_tag": "ABX9TyNHbREzj77XOy9/wh09VKPL",
      "include_colab_link": true
    },
    "kernelspec": {
      "name": "python3",
      "display_name": "Python 3"
    },
    "accelerator": "GPU"
  },
  "cells": [
    {
      "cell_type": "markdown",
      "metadata": {
        "id": "view-in-github",
        "colab_type": "text"
      },
      "source": [
        "<a href=\"https://colab.research.google.com/github/bs3537/DS-Unit-4-Sprint-3-Deep-Learning/blob/master/code_train_valid_test_split_folders.ipynb\" target=\"_parent\"><img src=\"https://colab.research.google.com/assets/colab-badge.svg\" alt=\"Open In Colab\"/></a>"
      ]
    },
    {
      "cell_type": "code",
      "metadata": {
        "id": "mzx3RWHgHyn5",
        "colab": {
          "base_uri": "https://localhost:8080/"
        },
        "outputId": "deae797b-77f2-4400-9941-976b1f74ef94"
      },
      "source": [
        "!pip install split-folders"
      ],
      "execution_count": null,
      "outputs": [
        {
          "output_type": "stream",
          "text": [
            "Collecting split-folders\n",
            "  Downloading https://files.pythonhosted.org/packages/b8/5f/3c2b2f7ea5e047c8cdc3bb00ae582c5438fcdbbedcc23b3cc1c2c7aae642/split_folders-0.4.3-py3-none-any.whl\n",
            "Installing collected packages: split-folders\n",
            "Successfully installed split-folders-0.4.3\n"
          ],
          "name": "stdout"
        }
      ]
    },
    {
      "cell_type": "code",
      "metadata": {
        "id": "h2MtxpSQIZU8"
      },
      "source": [
        "import splitfolders"
      ],
      "execution_count": null,
      "outputs": []
    },
    {
      "cell_type": "code",
      "metadata": {
        "id": "JSK2OYfbIt2l"
      },
      "source": [
        "input_folder = '/content/drive/MyDrive/ILD_3 classes_May_2021/TIFF_files_no_segmentation'"
      ],
      "execution_count": null,
      "outputs": []
    },
    {
      "cell_type": "code",
      "metadata": {
        "id": "LKG1pqDaJt2o"
      },
      "source": [
        "output_folder= '/content/drive/MyDrive/ILD_3 classes_May_2021/Split_Tiff_unsegmented_folders'"
      ],
      "execution_count": null,
      "outputs": []
    },
    {
      "cell_type": "code",
      "metadata": {
        "id": "-OQ2L2sRIkQ0",
        "colab": {
          "base_uri": "https://localhost:8080/"
        },
        "outputId": "a473ec96-4db1-460c-fe14-acc93ad30936"
      },
      "source": [
        "splitfolders.ratio(input_folder, output_folder, seed=1337, ratio=(.8, .1, .1)) # default values"
      ],
      "execution_count": null,
      "outputs": [
        {
          "output_type": "stream",
          "text": [
            "Copying files: 384 files [02:32,  2.51 files/s]\n"
          ],
          "name": "stderr"
        }
      ]
    }
  ]
}