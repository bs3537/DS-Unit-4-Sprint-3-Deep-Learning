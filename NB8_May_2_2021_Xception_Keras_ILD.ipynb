{
  "nbformat": 4,
  "nbformat_minor": 0,
  "metadata": {
    "colab": {
      "name": "NB8_May_2_2021_Xception_Keras_ILD.ipynb",
      "provenance": [],
      "collapsed_sections": [],
      "machine_shape": "hm",
      "include_colab_link": true
    },
    "kernelspec": {
      "name": "python3",
      "display_name": "Python 3"
    },
    "accelerator": "GPU"
  },
  "cells": [
    {
      "cell_type": "markdown",
      "metadata": {
        "id": "view-in-github",
        "colab_type": "text"
      },
      "source": [
        "<a href=\"https://colab.research.google.com/github/bs3537/DS-Unit-4-Sprint-3-Deep-Learning/blob/master/NB8_May_2_2021_Xception_Keras_ILD.ipynb\" target=\"_parent\"><img src=\"https://colab.research.google.com/assets/colab-badge.svg\" alt=\"Open In Colab\"/></a>"
      ]
    },
    {
      "cell_type": "code",
      "metadata": {
        "id": "1Blk6tMrKrxG"
      },
      "source": [
        "#IMPORT ALL NECESSARY LIBRARIES\n",
        "\n",
        "import numpy as np\n",
        "import pandas as pd\n",
        "import matplotlib.pyplot as plt\n",
        "import os\n",
        "\n",
        "from sklearn.model_selection import train_test_split\n",
        "import itertools\n",
        "import shutil\n",
        "%matplotlib inline\n",
        "\n",
        "\n",
        "\n",
        "import tensorflow\n",
        "from tensorflow import keras\n",
        "from tensorflow.keras import backend\n",
        "from tensorflow.keras.preprocessing.image import ImageDataGenerator\n",
        "from tensorflow.keras.models import Model\n",
        "from tensorflow.keras.layers import Dense, Dropout, PReLU, Flatten, MaxPool2D, MaxPooling3D, GlobalAveragePooling2D, GlobalAveragePooling3D, Conv2D, Conv3D, Input, BatchNormalization, Activation, Concatenate, Lambda\n",
        "from tensorflow.keras.optimizers import Adam, Nadam\n",
        "from tensorflow.keras import regularizers, activations, applications\n",
        "from tensorflow.keras.applications.xception import Xception, decode_predictions, preprocess_input\n",
        "from tensorflow.keras.callbacks import EarlyStopping, ModelCheckpoint, ReduceLROnPlateau"
      ],
      "execution_count": null,
      "outputs": []
    },
    {
      "cell_type": "code",
      "metadata": {
        "id": "kX1jA-8YPVqC",
        "colab": {
          "base_uri": "https://localhost:8080/"
        },
        "outputId": "fb921b97-b2a3-41b4-d8e5-550fcb2803cc"
      },
      "source": [
        "# Check that we have a GPU instance of Colab\n",
        "gpu_info = !nvidia-smi\n",
        "gpu_info = '\\n'.join(gpu_info)\n",
        "if gpu_info.find('failed') >= 0:\n",
        "  print('Select the Runtime → \"Change runtime type\" menu to enable a GPU accelerator, ')\n",
        "  print('and then re-execute this cell.')\n",
        "else:\n",
        "  print(gpu_info)"
      ],
      "execution_count": null,
      "outputs": [
        {
          "output_type": "stream",
          "text": [
            "Sun May  2 22:27:38 2021       \n",
            "+-----------------------------------------------------------------------------+\n",
            "| NVIDIA-SMI 465.19.01    Driver Version: 460.32.03    CUDA Version: 11.2     |\n",
            "|-------------------------------+----------------------+----------------------+\n",
            "| GPU  Name        Persistence-M| Bus-Id        Disp.A | Volatile Uncorr. ECC |\n",
            "| Fan  Temp  Perf  Pwr:Usage/Cap|         Memory-Usage | GPU-Util  Compute M. |\n",
            "|                               |                      |               MIG M. |\n",
            "|===============================+======================+======================|\n",
            "|   0  Tesla P100-PCIE...  Off  | 00000000:00:04.0 Off |                    0 |\n",
            "| N/A   36C    P0    29W / 250W |      0MiB / 16280MiB |      0%      Default |\n",
            "|                               |                      |                  N/A |\n",
            "+-------------------------------+----------------------+----------------------+\n",
            "                                                                               \n",
            "+-----------------------------------------------------------------------------+\n",
            "| Processes:                                                                  |\n",
            "|  GPU   GI   CI        PID   Type   Process name                  GPU Memory |\n",
            "|        ID   ID                                                   Usage      |\n",
            "|=============================================================================|\n",
            "|  No running processes found                                                 |\n",
            "+-----------------------------------------------------------------------------+\n"
          ],
          "name": "stdout"
        }
      ]
    },
    {
      "cell_type": "code",
      "metadata": {
        "id": "pwZAC08wO-B7"
      },
      "source": [
        "#MOUNT GOOGLE DRIVE AND DEFINE TRAIN AND VALIDATION IMAGE DIRECTORIES"
      ],
      "execution_count": null,
      "outputs": []
    },
    {
      "cell_type": "code",
      "metadata": {
        "id": "chFIJPkVPL6G",
        "colab": {
          "base_uri": "https://localhost:8080/"
        },
        "outputId": "77dd8fcc-167a-4f0a-e079-9512dda507fb"
      },
      "source": [
        "from google.colab import drive\n",
        "drive.mount('/content/drive')"
      ],
      "execution_count": null,
      "outputs": [
        {
          "output_type": "stream",
          "text": [
            "Mounted at /content/drive\n"
          ],
          "name": "stdout"
        }
      ]
    },
    {
      "cell_type": "code",
      "metadata": {
        "id": "wOgVDMxpqnh6"
      },
      "source": [
        "#Using Keras Image Generator for Automatic train/valid split rather than manual spliting"
      ],
      "execution_count": null,
      "outputs": []
    },
    {
      "cell_type": "code",
      "metadata": {
        "id": "8oQA13sQO5Rg"
      },
      "source": [
        "images_dir = ('/content/drive/MyDrive/ILD_3 classes_May_2021/TIFF files/')"
      ],
      "execution_count": null,
      "outputs": []
    },
    {
      "cell_type": "code",
      "metadata": {
        "id": "CP9db0-XEsos"
      },
      "source": [
        ""
      ],
      "execution_count": null,
      "outputs": []
    },
    {
      "cell_type": "markdown",
      "metadata": {
        "id": "Vy8rcfbIR0Xz"
      },
      "source": [
        "KERAS FLOW FROM DIRECTORY IMAGE GENERATOR"
      ]
    },
    {
      "cell_type": "code",
      "metadata": {
        "id": "VWEj08jiM1Z0"
      },
      "source": [
        "BATCH_SIZE    = 32"
      ],
      "execution_count": null,
      "outputs": []
    },
    {
      "cell_type": "code",
      "metadata": {
        "id": "LnoVAxHgSves"
      },
      "source": [
        "traindatagen = ImageDataGenerator(preprocessing_function=preprocess_input, horizontal_flip=True, validation_split=0.2)"
      ],
      "execution_count": null,
      "outputs": []
    },
    {
      "cell_type": "code",
      "metadata": {
        "id": "k0QpZrKuzyLP"
      },
      "source": [
        "valdatagen = ImageDataGenerator(preprocessing_function=preprocess_input, validation_split=0.2)"
      ],
      "execution_count": null,
      "outputs": []
    },
    {
      "cell_type": "code",
      "metadata": {
        "id": "VwBiD0r3R4q6",
        "colab": {
          "base_uri": "https://localhost:8080/"
        },
        "outputId": "e5c7010b-1bfc-483d-84ec-aa6c21d98b9e"
      },
      "source": [
        "#default for Xception network = 299 x 299\n",
        "\n",
        "#Train dataset\n",
        "\n",
        "train_datagen=traindatagen.flow_from_directory(\n",
        "    images_dir,\n",
        "    target_size=(299, 299),\n",
        "    class_mode=\"categorical\",\n",
        "    batch_size=BATCH_SIZE,\n",
        "    shuffle=True,\n",
        "    seed=42,\n",
        "    interpolation=\"nearest\",\n",
        "    subset = 'training'\n",
        ")"
      ],
      "execution_count": null,
      "outputs": [
        {
          "output_type": "stream",
          "text": [
            "Found 309 images belonging to 3 classes.\n"
          ],
          "name": "stdout"
        }
      ]
    },
    {
      "cell_type": "code",
      "metadata": {
        "id": "k82qod2wtKkW"
      },
      "source": [
        "y_true_labels = train_datagen.classes\n"
      ],
      "execution_count": null,
      "outputs": []
    },
    {
      "cell_type": "code",
      "metadata": {
        "id": "Ap2uMRi6umYG",
        "colab": {
          "base_uri": "https://localhost:8080/"
        },
        "outputId": "2bc195b8-4309-4bf4-89db-0f35d713aa16"
      },
      "source": [
        "label_map = (train_datagen.class_indices)\n",
        "label_map\n",
        "\n",
        "#Prints name of image classes"
      ],
      "execution_count": null,
      "outputs": [
        {
          "output_type": "execute_result",
          "data": {
            "text/plain": [
              "{'healthy': 0,\n",
              " 'nonspecific_interstitial_pneumonia': 1,\n",
              " 'pulmonary_fibrosis': 2}"
            ]
          },
          "metadata": {
            "tags": []
          },
          "execution_count": 12
        }
      ]
    },
    {
      "cell_type": "code",
      "metadata": {
        "id": "DDnqhhrAVCPq",
        "colab": {
          "base_uri": "https://localhost:8080/"
        },
        "outputId": "036c104b-5d92-4688-e564-1c6fb286ee9f"
      },
      "source": [
        "valid_datagen=valdatagen.flow_from_directory(\n",
        "    images_dir,\n",
        "    target_size=(299, 299),\n",
        "    class_mode=\"categorical\",\n",
        "    batch_size=BATCH_SIZE,\n",
        "    shuffle=False,\n",
        "    interpolation=\"nearest\",\n",
        "    subset = 'validation'\n",
        ")"
      ],
      "execution_count": null,
      "outputs": [
        {
          "output_type": "stream",
          "text": [
            "Found 75 images belonging to 3 classes.\n"
          ],
          "name": "stdout"
        }
      ]
    },
    {
      "cell_type": "markdown",
      "metadata": {
        "id": "mWeYuP9D3s9_"
      },
      "source": [
        "PREPARING THE DEEP LEARNING CNN MODEL"
      ]
    },
    {
      "cell_type": "code",
      "metadata": {
        "id": "zJpV80_P4HZ1"
      },
      "source": [
        "IMAGE_SIZE    = (299, 299)\n",
        "NUM_CLASSES   = 3 \n",
        "FREEZE_LAYERS = 1  "
      ],
      "execution_count": null,
      "outputs": []
    },
    {
      "cell_type": "code",
      "metadata": {
        "id": "eGUxrMjA4KUD",
        "colab": {
          "base_uri": "https://localhost:8080/"
        },
        "outputId": "12af7a39-b701-45dc-d0c6-6d567ca5eb60"
      },
      "source": [
        "net = Xception(include_top=False,\n",
        "                 weights=None,\n",
        "                 input_tensor=None,\n",
        "                 input_shape=(IMAGE_SIZE[0],IMAGE_SIZE[1],3)) \n",
        "x = net.output\n",
        "\n",
        "x = Flatten()(x)\n",
        "x = Dropout(0.2)(x)\n",
        "\n",
        "output_layer = Dense(NUM_CLASSES, activation='softmax', name='softmax')(x)\n",
        "net_final = Model(inputs=net.input, outputs=output_layer)\n",
        "\n",
        "for layer in net_final.layers[:FREEZE_LAYERS]:\n",
        "    layer.trainable = False\n",
        "\n",
        "for layer in net_final.layers[FREEZE_LAYERS:]:\n",
        "    layer.trainable = True\n",
        "\n",
        "net_final.compile(optimizer=Adam(lr=0.001),\n",
        "                  loss='categorical_crossentropy', metrics=['accuracy'])\n",
        "print(net_final.summary())"
      ],
      "execution_count": null,
      "outputs": [
        {
          "output_type": "stream",
          "text": [
            "Model: \"model\"\n",
            "__________________________________________________________________________________________________\n",
            "Layer (type)                    Output Shape         Param #     Connected to                     \n",
            "==================================================================================================\n",
            "input_1 (InputLayer)            [(None, 299, 299, 3) 0                                            \n",
            "__________________________________________________________________________________________________\n",
            "block1_conv1 (Conv2D)           (None, 149, 149, 32) 864         input_1[0][0]                    \n",
            "__________________________________________________________________________________________________\n",
            "block1_conv1_bn (BatchNormaliza (None, 149, 149, 32) 128         block1_conv1[0][0]               \n",
            "__________________________________________________________________________________________________\n",
            "block1_conv1_act (Activation)   (None, 149, 149, 32) 0           block1_conv1_bn[0][0]            \n",
            "__________________________________________________________________________________________________\n",
            "block1_conv2 (Conv2D)           (None, 147, 147, 64) 18432       block1_conv1_act[0][0]           \n",
            "__________________________________________________________________________________________________\n",
            "block1_conv2_bn (BatchNormaliza (None, 147, 147, 64) 256         block1_conv2[0][0]               \n",
            "__________________________________________________________________________________________________\n",
            "block1_conv2_act (Activation)   (None, 147, 147, 64) 0           block1_conv2_bn[0][0]            \n",
            "__________________________________________________________________________________________________\n",
            "block2_sepconv1 (SeparableConv2 (None, 147, 147, 128 8768        block1_conv2_act[0][0]           \n",
            "__________________________________________________________________________________________________\n",
            "block2_sepconv1_bn (BatchNormal (None, 147, 147, 128 512         block2_sepconv1[0][0]            \n",
            "__________________________________________________________________________________________________\n",
            "block2_sepconv2_act (Activation (None, 147, 147, 128 0           block2_sepconv1_bn[0][0]         \n",
            "__________________________________________________________________________________________________\n",
            "block2_sepconv2 (SeparableConv2 (None, 147, 147, 128 17536       block2_sepconv2_act[0][0]        \n",
            "__________________________________________________________________________________________________\n",
            "block2_sepconv2_bn (BatchNormal (None, 147, 147, 128 512         block2_sepconv2[0][0]            \n",
            "__________________________________________________________________________________________________\n",
            "conv2d (Conv2D)                 (None, 74, 74, 128)  8192        block1_conv2_act[0][0]           \n",
            "__________________________________________________________________________________________________\n",
            "block2_pool (MaxPooling2D)      (None, 74, 74, 128)  0           block2_sepconv2_bn[0][0]         \n",
            "__________________________________________________________________________________________________\n",
            "batch_normalization (BatchNorma (None, 74, 74, 128)  512         conv2d[0][0]                     \n",
            "__________________________________________________________________________________________________\n",
            "add (Add)                       (None, 74, 74, 128)  0           block2_pool[0][0]                \n",
            "                                                                 batch_normalization[0][0]        \n",
            "__________________________________________________________________________________________________\n",
            "block3_sepconv1_act (Activation (None, 74, 74, 128)  0           add[0][0]                        \n",
            "__________________________________________________________________________________________________\n",
            "block3_sepconv1 (SeparableConv2 (None, 74, 74, 256)  33920       block3_sepconv1_act[0][0]        \n",
            "__________________________________________________________________________________________________\n",
            "block3_sepconv1_bn (BatchNormal (None, 74, 74, 256)  1024        block3_sepconv1[0][0]            \n",
            "__________________________________________________________________________________________________\n",
            "block3_sepconv2_act (Activation (None, 74, 74, 256)  0           block3_sepconv1_bn[0][0]         \n",
            "__________________________________________________________________________________________________\n",
            "block3_sepconv2 (SeparableConv2 (None, 74, 74, 256)  67840       block3_sepconv2_act[0][0]        \n",
            "__________________________________________________________________________________________________\n",
            "block3_sepconv2_bn (BatchNormal (None, 74, 74, 256)  1024        block3_sepconv2[0][0]            \n",
            "__________________________________________________________________________________________________\n",
            "conv2d_1 (Conv2D)               (None, 37, 37, 256)  32768       add[0][0]                        \n",
            "__________________________________________________________________________________________________\n",
            "block3_pool (MaxPooling2D)      (None, 37, 37, 256)  0           block3_sepconv2_bn[0][0]         \n",
            "__________________________________________________________________________________________________\n",
            "batch_normalization_1 (BatchNor (None, 37, 37, 256)  1024        conv2d_1[0][0]                   \n",
            "__________________________________________________________________________________________________\n",
            "add_1 (Add)                     (None, 37, 37, 256)  0           block3_pool[0][0]                \n",
            "                                                                 batch_normalization_1[0][0]      \n",
            "__________________________________________________________________________________________________\n",
            "block4_sepconv1_act (Activation (None, 37, 37, 256)  0           add_1[0][0]                      \n",
            "__________________________________________________________________________________________________\n",
            "block4_sepconv1 (SeparableConv2 (None, 37, 37, 728)  188672      block4_sepconv1_act[0][0]        \n",
            "__________________________________________________________________________________________________\n",
            "block4_sepconv1_bn (BatchNormal (None, 37, 37, 728)  2912        block4_sepconv1[0][0]            \n",
            "__________________________________________________________________________________________________\n",
            "block4_sepconv2_act (Activation (None, 37, 37, 728)  0           block4_sepconv1_bn[0][0]         \n",
            "__________________________________________________________________________________________________\n",
            "block4_sepconv2 (SeparableConv2 (None, 37, 37, 728)  536536      block4_sepconv2_act[0][0]        \n",
            "__________________________________________________________________________________________________\n",
            "block4_sepconv2_bn (BatchNormal (None, 37, 37, 728)  2912        block4_sepconv2[0][0]            \n",
            "__________________________________________________________________________________________________\n",
            "conv2d_2 (Conv2D)               (None, 19, 19, 728)  186368      add_1[0][0]                      \n",
            "__________________________________________________________________________________________________\n",
            "block4_pool (MaxPooling2D)      (None, 19, 19, 728)  0           block4_sepconv2_bn[0][0]         \n",
            "__________________________________________________________________________________________________\n",
            "batch_normalization_2 (BatchNor (None, 19, 19, 728)  2912        conv2d_2[0][0]                   \n",
            "__________________________________________________________________________________________________\n",
            "add_2 (Add)                     (None, 19, 19, 728)  0           block4_pool[0][0]                \n",
            "                                                                 batch_normalization_2[0][0]      \n",
            "__________________________________________________________________________________________________\n",
            "block5_sepconv1_act (Activation (None, 19, 19, 728)  0           add_2[0][0]                      \n",
            "__________________________________________________________________________________________________\n",
            "block5_sepconv1 (SeparableConv2 (None, 19, 19, 728)  536536      block5_sepconv1_act[0][0]        \n",
            "__________________________________________________________________________________________________\n",
            "block5_sepconv1_bn (BatchNormal (None, 19, 19, 728)  2912        block5_sepconv1[0][0]            \n",
            "__________________________________________________________________________________________________\n",
            "block5_sepconv2_act (Activation (None, 19, 19, 728)  0           block5_sepconv1_bn[0][0]         \n",
            "__________________________________________________________________________________________________\n",
            "block5_sepconv2 (SeparableConv2 (None, 19, 19, 728)  536536      block5_sepconv2_act[0][0]        \n",
            "__________________________________________________________________________________________________\n",
            "block5_sepconv2_bn (BatchNormal (None, 19, 19, 728)  2912        block5_sepconv2[0][0]            \n",
            "__________________________________________________________________________________________________\n",
            "block5_sepconv3_act (Activation (None, 19, 19, 728)  0           block5_sepconv2_bn[0][0]         \n",
            "__________________________________________________________________________________________________\n",
            "block5_sepconv3 (SeparableConv2 (None, 19, 19, 728)  536536      block5_sepconv3_act[0][0]        \n",
            "__________________________________________________________________________________________________\n",
            "block5_sepconv3_bn (BatchNormal (None, 19, 19, 728)  2912        block5_sepconv3[0][0]            \n",
            "__________________________________________________________________________________________________\n",
            "add_3 (Add)                     (None, 19, 19, 728)  0           block5_sepconv3_bn[0][0]         \n",
            "                                                                 add_2[0][0]                      \n",
            "__________________________________________________________________________________________________\n",
            "block6_sepconv1_act (Activation (None, 19, 19, 728)  0           add_3[0][0]                      \n",
            "__________________________________________________________________________________________________\n",
            "block6_sepconv1 (SeparableConv2 (None, 19, 19, 728)  536536      block6_sepconv1_act[0][0]        \n",
            "__________________________________________________________________________________________________\n",
            "block6_sepconv1_bn (BatchNormal (None, 19, 19, 728)  2912        block6_sepconv1[0][0]            \n",
            "__________________________________________________________________________________________________\n",
            "block6_sepconv2_act (Activation (None, 19, 19, 728)  0           block6_sepconv1_bn[0][0]         \n",
            "__________________________________________________________________________________________________\n",
            "block6_sepconv2 (SeparableConv2 (None, 19, 19, 728)  536536      block6_sepconv2_act[0][0]        \n",
            "__________________________________________________________________________________________________\n",
            "block6_sepconv2_bn (BatchNormal (None, 19, 19, 728)  2912        block6_sepconv2[0][0]            \n",
            "__________________________________________________________________________________________________\n",
            "block6_sepconv3_act (Activation (None, 19, 19, 728)  0           block6_sepconv2_bn[0][0]         \n",
            "__________________________________________________________________________________________________\n",
            "block6_sepconv3 (SeparableConv2 (None, 19, 19, 728)  536536      block6_sepconv3_act[0][0]        \n",
            "__________________________________________________________________________________________________\n",
            "block6_sepconv3_bn (BatchNormal (None, 19, 19, 728)  2912        block6_sepconv3[0][0]            \n",
            "__________________________________________________________________________________________________\n",
            "add_4 (Add)                     (None, 19, 19, 728)  0           block6_sepconv3_bn[0][0]         \n",
            "                                                                 add_3[0][0]                      \n",
            "__________________________________________________________________________________________________\n",
            "block7_sepconv1_act (Activation (None, 19, 19, 728)  0           add_4[0][0]                      \n",
            "__________________________________________________________________________________________________\n",
            "block7_sepconv1 (SeparableConv2 (None, 19, 19, 728)  536536      block7_sepconv1_act[0][0]        \n",
            "__________________________________________________________________________________________________\n",
            "block7_sepconv1_bn (BatchNormal (None, 19, 19, 728)  2912        block7_sepconv1[0][0]            \n",
            "__________________________________________________________________________________________________\n",
            "block7_sepconv2_act (Activation (None, 19, 19, 728)  0           block7_sepconv1_bn[0][0]         \n",
            "__________________________________________________________________________________________________\n",
            "block7_sepconv2 (SeparableConv2 (None, 19, 19, 728)  536536      block7_sepconv2_act[0][0]        \n",
            "__________________________________________________________________________________________________\n",
            "block7_sepconv2_bn (BatchNormal (None, 19, 19, 728)  2912        block7_sepconv2[0][0]            \n",
            "__________________________________________________________________________________________________\n",
            "block7_sepconv3_act (Activation (None, 19, 19, 728)  0           block7_sepconv2_bn[0][0]         \n",
            "__________________________________________________________________________________________________\n",
            "block7_sepconv3 (SeparableConv2 (None, 19, 19, 728)  536536      block7_sepconv3_act[0][0]        \n",
            "__________________________________________________________________________________________________\n",
            "block7_sepconv3_bn (BatchNormal (None, 19, 19, 728)  2912        block7_sepconv3[0][0]            \n",
            "__________________________________________________________________________________________________\n",
            "add_5 (Add)                     (None, 19, 19, 728)  0           block7_sepconv3_bn[0][0]         \n",
            "                                                                 add_4[0][0]                      \n",
            "__________________________________________________________________________________________________\n",
            "block8_sepconv1_act (Activation (None, 19, 19, 728)  0           add_5[0][0]                      \n",
            "__________________________________________________________________________________________________\n",
            "block8_sepconv1 (SeparableConv2 (None, 19, 19, 728)  536536      block8_sepconv1_act[0][0]        \n",
            "__________________________________________________________________________________________________\n",
            "block8_sepconv1_bn (BatchNormal (None, 19, 19, 728)  2912        block8_sepconv1[0][0]            \n",
            "__________________________________________________________________________________________________\n",
            "block8_sepconv2_act (Activation (None, 19, 19, 728)  0           block8_sepconv1_bn[0][0]         \n",
            "__________________________________________________________________________________________________\n",
            "block8_sepconv2 (SeparableConv2 (None, 19, 19, 728)  536536      block8_sepconv2_act[0][0]        \n",
            "__________________________________________________________________________________________________\n",
            "block8_sepconv2_bn (BatchNormal (None, 19, 19, 728)  2912        block8_sepconv2[0][0]            \n",
            "__________________________________________________________________________________________________\n",
            "block8_sepconv3_act (Activation (None, 19, 19, 728)  0           block8_sepconv2_bn[0][0]         \n",
            "__________________________________________________________________________________________________\n",
            "block8_sepconv3 (SeparableConv2 (None, 19, 19, 728)  536536      block8_sepconv3_act[0][0]        \n",
            "__________________________________________________________________________________________________\n",
            "block8_sepconv3_bn (BatchNormal (None, 19, 19, 728)  2912        block8_sepconv3[0][0]            \n",
            "__________________________________________________________________________________________________\n",
            "add_6 (Add)                     (None, 19, 19, 728)  0           block8_sepconv3_bn[0][0]         \n",
            "                                                                 add_5[0][0]                      \n",
            "__________________________________________________________________________________________________\n",
            "block9_sepconv1_act (Activation (None, 19, 19, 728)  0           add_6[0][0]                      \n",
            "__________________________________________________________________________________________________\n",
            "block9_sepconv1 (SeparableConv2 (None, 19, 19, 728)  536536      block9_sepconv1_act[0][0]        \n",
            "__________________________________________________________________________________________________\n",
            "block9_sepconv1_bn (BatchNormal (None, 19, 19, 728)  2912        block9_sepconv1[0][0]            \n",
            "__________________________________________________________________________________________________\n",
            "block9_sepconv2_act (Activation (None, 19, 19, 728)  0           block9_sepconv1_bn[0][0]         \n",
            "__________________________________________________________________________________________________\n",
            "block9_sepconv2 (SeparableConv2 (None, 19, 19, 728)  536536      block9_sepconv2_act[0][0]        \n",
            "__________________________________________________________________________________________________\n",
            "block9_sepconv2_bn (BatchNormal (None, 19, 19, 728)  2912        block9_sepconv2[0][0]            \n",
            "__________________________________________________________________________________________________\n",
            "block9_sepconv3_act (Activation (None, 19, 19, 728)  0           block9_sepconv2_bn[0][0]         \n",
            "__________________________________________________________________________________________________\n",
            "block9_sepconv3 (SeparableConv2 (None, 19, 19, 728)  536536      block9_sepconv3_act[0][0]        \n",
            "__________________________________________________________________________________________________\n",
            "block9_sepconv3_bn (BatchNormal (None, 19, 19, 728)  2912        block9_sepconv3[0][0]            \n",
            "__________________________________________________________________________________________________\n",
            "add_7 (Add)                     (None, 19, 19, 728)  0           block9_sepconv3_bn[0][0]         \n",
            "                                                                 add_6[0][0]                      \n",
            "__________________________________________________________________________________________________\n",
            "block10_sepconv1_act (Activatio (None, 19, 19, 728)  0           add_7[0][0]                      \n",
            "__________________________________________________________________________________________________\n",
            "block10_sepconv1 (SeparableConv (None, 19, 19, 728)  536536      block10_sepconv1_act[0][0]       \n",
            "__________________________________________________________________________________________________\n",
            "block10_sepconv1_bn (BatchNorma (None, 19, 19, 728)  2912        block10_sepconv1[0][0]           \n",
            "__________________________________________________________________________________________________\n",
            "block10_sepconv2_act (Activatio (None, 19, 19, 728)  0           block10_sepconv1_bn[0][0]        \n",
            "__________________________________________________________________________________________________\n",
            "block10_sepconv2 (SeparableConv (None, 19, 19, 728)  536536      block10_sepconv2_act[0][0]       \n",
            "__________________________________________________________________________________________________\n",
            "block10_sepconv2_bn (BatchNorma (None, 19, 19, 728)  2912        block10_sepconv2[0][0]           \n",
            "__________________________________________________________________________________________________\n",
            "block10_sepconv3_act (Activatio (None, 19, 19, 728)  0           block10_sepconv2_bn[0][0]        \n",
            "__________________________________________________________________________________________________\n",
            "block10_sepconv3 (SeparableConv (None, 19, 19, 728)  536536      block10_sepconv3_act[0][0]       \n",
            "__________________________________________________________________________________________________\n",
            "block10_sepconv3_bn (BatchNorma (None, 19, 19, 728)  2912        block10_sepconv3[0][0]           \n",
            "__________________________________________________________________________________________________\n",
            "add_8 (Add)                     (None, 19, 19, 728)  0           block10_sepconv3_bn[0][0]        \n",
            "                                                                 add_7[0][0]                      \n",
            "__________________________________________________________________________________________________\n",
            "block11_sepconv1_act (Activatio (None, 19, 19, 728)  0           add_8[0][0]                      \n",
            "__________________________________________________________________________________________________\n",
            "block11_sepconv1 (SeparableConv (None, 19, 19, 728)  536536      block11_sepconv1_act[0][0]       \n",
            "__________________________________________________________________________________________________\n",
            "block11_sepconv1_bn (BatchNorma (None, 19, 19, 728)  2912        block11_sepconv1[0][0]           \n",
            "__________________________________________________________________________________________________\n",
            "block11_sepconv2_act (Activatio (None, 19, 19, 728)  0           block11_sepconv1_bn[0][0]        \n",
            "__________________________________________________________________________________________________\n",
            "block11_sepconv2 (SeparableConv (None, 19, 19, 728)  536536      block11_sepconv2_act[0][0]       \n",
            "__________________________________________________________________________________________________\n",
            "block11_sepconv2_bn (BatchNorma (None, 19, 19, 728)  2912        block11_sepconv2[0][0]           \n",
            "__________________________________________________________________________________________________\n",
            "block11_sepconv3_act (Activatio (None, 19, 19, 728)  0           block11_sepconv2_bn[0][0]        \n",
            "__________________________________________________________________________________________________\n",
            "block11_sepconv3 (SeparableConv (None, 19, 19, 728)  536536      block11_sepconv3_act[0][0]       \n",
            "__________________________________________________________________________________________________\n",
            "block11_sepconv3_bn (BatchNorma (None, 19, 19, 728)  2912        block11_sepconv3[0][0]           \n",
            "__________________________________________________________________________________________________\n",
            "add_9 (Add)                     (None, 19, 19, 728)  0           block11_sepconv3_bn[0][0]        \n",
            "                                                                 add_8[0][0]                      \n",
            "__________________________________________________________________________________________________\n",
            "block12_sepconv1_act (Activatio (None, 19, 19, 728)  0           add_9[0][0]                      \n",
            "__________________________________________________________________________________________________\n",
            "block12_sepconv1 (SeparableConv (None, 19, 19, 728)  536536      block12_sepconv1_act[0][0]       \n",
            "__________________________________________________________________________________________________\n",
            "block12_sepconv1_bn (BatchNorma (None, 19, 19, 728)  2912        block12_sepconv1[0][0]           \n",
            "__________________________________________________________________________________________________\n",
            "block12_sepconv2_act (Activatio (None, 19, 19, 728)  0           block12_sepconv1_bn[0][0]        \n",
            "__________________________________________________________________________________________________\n",
            "block12_sepconv2 (SeparableConv (None, 19, 19, 728)  536536      block12_sepconv2_act[0][0]       \n",
            "__________________________________________________________________________________________________\n",
            "block12_sepconv2_bn (BatchNorma (None, 19, 19, 728)  2912        block12_sepconv2[0][0]           \n",
            "__________________________________________________________________________________________________\n",
            "block12_sepconv3_act (Activatio (None, 19, 19, 728)  0           block12_sepconv2_bn[0][0]        \n",
            "__________________________________________________________________________________________________\n",
            "block12_sepconv3 (SeparableConv (None, 19, 19, 728)  536536      block12_sepconv3_act[0][0]       \n",
            "__________________________________________________________________________________________________\n",
            "block12_sepconv3_bn (BatchNorma (None, 19, 19, 728)  2912        block12_sepconv3[0][0]           \n",
            "__________________________________________________________________________________________________\n",
            "add_10 (Add)                    (None, 19, 19, 728)  0           block12_sepconv3_bn[0][0]        \n",
            "                                                                 add_9[0][0]                      \n",
            "__________________________________________________________________________________________________\n",
            "block13_sepconv1_act (Activatio (None, 19, 19, 728)  0           add_10[0][0]                     \n",
            "__________________________________________________________________________________________________\n",
            "block13_sepconv1 (SeparableConv (None, 19, 19, 728)  536536      block13_sepconv1_act[0][0]       \n",
            "__________________________________________________________________________________________________\n",
            "block13_sepconv1_bn (BatchNorma (None, 19, 19, 728)  2912        block13_sepconv1[0][0]           \n",
            "__________________________________________________________________________________________________\n",
            "block13_sepconv2_act (Activatio (None, 19, 19, 728)  0           block13_sepconv1_bn[0][0]        \n",
            "__________________________________________________________________________________________________\n",
            "block13_sepconv2 (SeparableConv (None, 19, 19, 1024) 752024      block13_sepconv2_act[0][0]       \n",
            "__________________________________________________________________________________________________\n",
            "block13_sepconv2_bn (BatchNorma (None, 19, 19, 1024) 4096        block13_sepconv2[0][0]           \n",
            "__________________________________________________________________________________________________\n",
            "conv2d_3 (Conv2D)               (None, 10, 10, 1024) 745472      add_10[0][0]                     \n",
            "__________________________________________________________________________________________________\n",
            "block13_pool (MaxPooling2D)     (None, 10, 10, 1024) 0           block13_sepconv2_bn[0][0]        \n",
            "__________________________________________________________________________________________________\n",
            "batch_normalization_3 (BatchNor (None, 10, 10, 1024) 4096        conv2d_3[0][0]                   \n",
            "__________________________________________________________________________________________________\n",
            "add_11 (Add)                    (None, 10, 10, 1024) 0           block13_pool[0][0]               \n",
            "                                                                 batch_normalization_3[0][0]      \n",
            "__________________________________________________________________________________________________\n",
            "block14_sepconv1 (SeparableConv (None, 10, 10, 1536) 1582080     add_11[0][0]                     \n",
            "__________________________________________________________________________________________________\n",
            "block14_sepconv1_bn (BatchNorma (None, 10, 10, 1536) 6144        block14_sepconv1[0][0]           \n",
            "__________________________________________________________________________________________________\n",
            "block14_sepconv1_act (Activatio (None, 10, 10, 1536) 0           block14_sepconv1_bn[0][0]        \n",
            "__________________________________________________________________________________________________\n",
            "block14_sepconv2 (SeparableConv (None, 10, 10, 2048) 3159552     block14_sepconv1_act[0][0]       \n",
            "__________________________________________________________________________________________________\n",
            "block14_sepconv2_bn (BatchNorma (None, 10, 10, 2048) 8192        block14_sepconv2[0][0]           \n",
            "__________________________________________________________________________________________________\n",
            "block14_sepconv2_act (Activatio (None, 10, 10, 2048) 0           block14_sepconv2_bn[0][0]        \n",
            "__________________________________________________________________________________________________\n",
            "flatten (Flatten)               (None, 204800)       0           block14_sepconv2_act[0][0]       \n",
            "__________________________________________________________________________________________________\n",
            "dropout (Dropout)               (None, 204800)       0           flatten[0][0]                    \n",
            "__________________________________________________________________________________________________\n",
            "softmax (Dense)                 (None, 3)            614403      dropout[0][0]                    \n",
            "==================================================================================================\n",
            "Total params: 21,475,883\n",
            "Trainable params: 21,421,355\n",
            "Non-trainable params: 54,528\n",
            "__________________________________________________________________________________________________\n",
            "None\n"
          ],
          "name": "stdout"
        }
      ]
    },
    {
      "cell_type": "code",
      "metadata": {
        "id": "j7wHWb9I4-r1"
      },
      "source": [
        "#TRAIN AND VALIDATE USING THE BUILT CNN MODEL"
      ],
      "execution_count": null,
      "outputs": []
    },
    {
      "cell_type": "code",
      "metadata": {
        "id": "91ofgS_T40L7"
      },
      "source": [
        "#rlrop = ReduceLROnPlateau(monitor='val_loss', mode='auto', min_delta=0.001, factor=0.1, patience=1)"
      ],
      "execution_count": null,
      "outputs": []
    },
    {
      "cell_type": "code",
      "metadata": {
        "id": "22xJzK4c5FlU",
        "colab": {
          "base_uri": "https://localhost:8080/"
        },
        "outputId": "9544d7e2-740d-4971-df70-d567b1fb7725"
      },
      "source": [
        "NUM_EPOCHS = 100\n",
        "\n",
        "#stop = EarlyStopping(monitor='val_loss', mode='min', min_delta=0.001, patience=3, verbose=1)\n",
        "\n",
        "#save the model in keras model.save format\n",
        "\n",
        "#filepath=\"/content/drive/MyDrive/ILD_3 classes_May_2021/May_2_2021_xception.hdf5\"\n",
        "#checkpoint = ModelCheckpoint(filepath, monitor='val_loss', verbose=1, save_best_only=True, mode='min', save_freq='epoch')\n",
        "\n",
        "hist = net_final.fit(\n",
        "        train_datagen,\n",
        "        epochs=NUM_EPOCHS,\n",
        "        validation_data=valid_datagen,\n",
        "        verbose=1,\n",
        "        steps_per_epoch = train_datagen.samples // BATCH_SIZE,\n",
        "        #callbacks=[stop],\n",
        "        validation_steps = valid_datagen.samples // BATCH_SIZE)"
      ],
      "execution_count": null,
      "outputs": [
        {
          "output_type": "stream",
          "text": [
            "Epoch 1/100\n",
            "9/9 [==============================] - 141s 14s/step - loss: 6.8637 - accuracy: 0.4720 - val_loss: 1.0987 - val_accuracy: 0.2812\n",
            "Epoch 2/100\n",
            "9/9 [==============================] - 7s 774ms/step - loss: 1.1647 - accuracy: 0.8819 - val_loss: 1.0987 - val_accuracy: 0.2812\n",
            "Epoch 3/100\n",
            "9/9 [==============================] - 7s 802ms/step - loss: 0.4147 - accuracy: 0.9190 - val_loss: 1.0986 - val_accuracy: 0.2812\n",
            "Epoch 4/100\n",
            "9/9 [==============================] - 7s 801ms/step - loss: 0.1564 - accuracy: 0.9611 - val_loss: 1.0987 - val_accuracy: 0.2812\n",
            "Epoch 5/100\n",
            "9/9 [==============================] - 7s 800ms/step - loss: 0.2882 - accuracy: 0.9434 - val_loss: 1.0986 - val_accuracy: 0.2812\n",
            "Epoch 6/100\n",
            "9/9 [==============================] - 7s 773ms/step - loss: 0.0342 - accuracy: 0.9909 - val_loss: 1.0987 - val_accuracy: 0.2812\n",
            "Epoch 7/100\n",
            "9/9 [==============================] - 7s 772ms/step - loss: 0.0265 - accuracy: 0.9934 - val_loss: 1.0987 - val_accuracy: 0.2812\n",
            "Epoch 8/100\n",
            "9/9 [==============================] - 7s 799ms/step - loss: 2.8878e-05 - accuracy: 1.0000 - val_loss: 1.0986 - val_accuracy: 0.3125\n",
            "Epoch 9/100\n",
            "9/9 [==============================] - 7s 776ms/step - loss: 0.0019 - accuracy: 1.0000 - val_loss: 1.0987 - val_accuracy: 0.3125\n",
            "Epoch 10/100\n",
            "9/9 [==============================] - 7s 773ms/step - loss: 1.1018e-04 - accuracy: 1.0000 - val_loss: 1.0987 - val_accuracy: 0.3125\n",
            "Epoch 11/100\n",
            "9/9 [==============================] - 7s 772ms/step - loss: 1.2017e-04 - accuracy: 1.0000 - val_loss: 1.0988 - val_accuracy: 0.3125\n",
            "Epoch 12/100\n",
            "9/9 [==============================] - 7s 772ms/step - loss: 2.3973e-05 - accuracy: 1.0000 - val_loss: 1.0989 - val_accuracy: 0.3125\n",
            "Epoch 13/100\n",
            "9/9 [==============================] - 7s 772ms/step - loss: 5.5725e-05 - accuracy: 1.0000 - val_loss: 1.0990 - val_accuracy: 0.3125\n",
            "Epoch 14/100\n",
            "9/9 [==============================] - 7s 774ms/step - loss: 8.6114e-06 - accuracy: 1.0000 - val_loss: 1.0991 - val_accuracy: 0.3125\n",
            "Epoch 15/100\n",
            "9/9 [==============================] - 7s 802ms/step - loss: 2.4882e-05 - accuracy: 1.0000 - val_loss: 1.0994 - val_accuracy: 0.3125\n",
            "Epoch 16/100\n",
            "9/9 [==============================] - 7s 801ms/step - loss: 5.7085e-07 - accuracy: 1.0000 - val_loss: 1.0997 - val_accuracy: 0.3125\n",
            "Epoch 17/100\n",
            "9/9 [==============================] - 7s 776ms/step - loss: 8.8726e-05 - accuracy: 1.0000 - val_loss: 1.1000 - val_accuracy: 0.3125\n",
            "Epoch 18/100\n",
            "9/9 [==============================] - 7s 772ms/step - loss: 1.3782e-06 - accuracy: 1.0000 - val_loss: 1.1004 - val_accuracy: 0.3125\n",
            "Epoch 19/100\n",
            "9/9 [==============================] - 7s 772ms/step - loss: 0.0750 - accuracy: 0.9893 - val_loss: 1.1009 - val_accuracy: 0.3125\n",
            "Epoch 20/100\n",
            "9/9 [==============================] - 7s 775ms/step - loss: 0.5351 - accuracy: 0.9376 - val_loss: 1.0981 - val_accuracy: 0.3125\n",
            "Epoch 21/100\n",
            "9/9 [==============================] - 7s 770ms/step - loss: 0.5585 - accuracy: 0.9304 - val_loss: 1.0978 - val_accuracy: 0.2812\n",
            "Epoch 22/100\n",
            "9/9 [==============================] - 7s 772ms/step - loss: 0.1843 - accuracy: 0.9820 - val_loss: 1.0972 - val_accuracy: 0.2969\n",
            "Epoch 23/100\n",
            "9/9 [==============================] - 7s 771ms/step - loss: 0.6298 - accuracy: 0.9528 - val_loss: 1.0973 - val_accuracy: 0.2812\n",
            "Epoch 24/100\n",
            "9/9 [==============================] - 7s 773ms/step - loss: 1.2511 - accuracy: 0.8944 - val_loss: 1.0974 - val_accuracy: 0.2812\n",
            "Epoch 25/100\n",
            "9/9 [==============================] - 7s 773ms/step - loss: 1.2989 - accuracy: 0.9396 - val_loss: 1.0967 - val_accuracy: 0.5000\n",
            "Epoch 26/100\n",
            "9/9 [==============================] - 7s 771ms/step - loss: 2.0891 - accuracy: 0.8831 - val_loss: 1.0920 - val_accuracy: 0.4219\n",
            "Epoch 27/100\n",
            "9/9 [==============================] - 7s 770ms/step - loss: 1.8916 - accuracy: 0.9379 - val_loss: 1.0850 - val_accuracy: 0.4062\n",
            "Epoch 28/100\n",
            "9/9 [==============================] - 7s 772ms/step - loss: 1.3219 - accuracy: 0.9468 - val_loss: 1.0379 - val_accuracy: 0.6094\n",
            "Epoch 29/100\n",
            "9/9 [==============================] - 7s 774ms/step - loss: 1.4054 - accuracy: 0.9387 - val_loss: 0.9851 - val_accuracy: 0.5000\n",
            "Epoch 30/100\n",
            "9/9 [==============================] - 7s 772ms/step - loss: 0.1438 - accuracy: 0.9808 - val_loss: 0.9846 - val_accuracy: 0.5312\n",
            "Epoch 31/100\n",
            "9/9 [==============================] - 7s 772ms/step - loss: 0.6031 - accuracy: 0.9465 - val_loss: 1.0999 - val_accuracy: 0.4219\n",
            "Epoch 32/100\n",
            "9/9 [==============================] - 7s 772ms/step - loss: 0.4694 - accuracy: 0.9725 - val_loss: 1.1363 - val_accuracy: 0.4531\n",
            "Epoch 33/100\n",
            "9/9 [==============================] - 7s 800ms/step - loss: 1.2790 - accuracy: 0.9463 - val_loss: 0.8088 - val_accuracy: 0.5000\n",
            "Epoch 34/100\n",
            "9/9 [==============================] - 7s 797ms/step - loss: 0.3877 - accuracy: 0.9431 - val_loss: 1.5308 - val_accuracy: 0.4062\n",
            "Epoch 35/100\n",
            "9/9 [==============================] - 7s 772ms/step - loss: 0.3678 - accuracy: 0.9790 - val_loss: 1.7573 - val_accuracy: 0.6406\n",
            "Epoch 36/100\n",
            "9/9 [==============================] - 7s 772ms/step - loss: 0.8138 - accuracy: 0.9500 - val_loss: 0.6592 - val_accuracy: 0.6875\n",
            "Epoch 37/100\n",
            "9/9 [==============================] - 7s 771ms/step - loss: 0.7567 - accuracy: 0.9590 - val_loss: 1.3795 - val_accuracy: 0.4844\n",
            "Epoch 38/100\n",
            "9/9 [==============================] - 7s 801ms/step - loss: 0.0306 - accuracy: 0.9940 - val_loss: 1.9565 - val_accuracy: 0.3594\n",
            "Epoch 39/100\n",
            "9/9 [==============================] - 7s 800ms/step - loss: 0.0298 - accuracy: 0.9908 - val_loss: 0.7836 - val_accuracy: 0.6094\n",
            "Epoch 40/100\n",
            "9/9 [==============================] - 7s 770ms/step - loss: 0.0237 - accuracy: 0.9901 - val_loss: 0.5122 - val_accuracy: 0.7969\n",
            "Epoch 41/100\n",
            "9/9 [==============================] - 7s 774ms/step - loss: 1.9844e-04 - accuracy: 1.0000 - val_loss: 0.5289 - val_accuracy: 0.7969\n",
            "Epoch 42/100\n",
            "9/9 [==============================] - 7s 774ms/step - loss: 3.2810e-04 - accuracy: 1.0000 - val_loss: 0.5061 - val_accuracy: 0.8125\n",
            "Epoch 43/100\n",
            "9/9 [==============================] - 7s 771ms/step - loss: 9.8264e-07 - accuracy: 1.0000 - val_loss: 0.5821 - val_accuracy: 0.8125\n",
            "Epoch 44/100\n",
            "9/9 [==============================] - 7s 774ms/step - loss: 0.0000e+00 - accuracy: 1.0000 - val_loss: 0.7126 - val_accuracy: 0.7812\n",
            "Epoch 45/100\n",
            "9/9 [==============================] - 7s 771ms/step - loss: 3.1603e-07 - accuracy: 1.0000 - val_loss: 0.8774 - val_accuracy: 0.7812\n",
            "Epoch 46/100\n",
            "9/9 [==============================] - 7s 771ms/step - loss: 1.8793e-06 - accuracy: 1.0000 - val_loss: 1.0688 - val_accuracy: 0.7812\n",
            "Epoch 47/100\n",
            "9/9 [==============================] - 7s 772ms/step - loss: 1.2103e-06 - accuracy: 1.0000 - val_loss: 1.2373 - val_accuracy: 0.7656\n",
            "Epoch 48/100\n",
            "9/9 [==============================] - 7s 773ms/step - loss: 0.0077 - accuracy: 0.9989 - val_loss: 2.0915 - val_accuracy: 0.7031\n",
            "Epoch 49/100\n",
            "9/9 [==============================] - 7s 774ms/step - loss: 0.0337 - accuracy: 0.9972 - val_loss: 5.0947 - val_accuracy: 0.6406\n",
            "Epoch 50/100\n",
            "9/9 [==============================] - 7s 770ms/step - loss: 0.1348 - accuracy: 0.9960 - val_loss: 3.6458 - val_accuracy: 0.7188\n",
            "Epoch 51/100\n",
            "9/9 [==============================] - 7s 799ms/step - loss: 0.1160 - accuracy: 0.9946 - val_loss: 6.0720 - val_accuracy: 0.7188\n",
            "Epoch 52/100\n",
            "9/9 [==============================] - 7s 799ms/step - loss: 0.0879 - accuracy: 0.9969 - val_loss: 6.5027 - val_accuracy: 0.7500\n",
            "Epoch 53/100\n",
            "9/9 [==============================] - 7s 770ms/step - loss: 0.0695 - accuracy: 0.9929 - val_loss: 1.2688 - val_accuracy: 0.9219\n",
            "Epoch 54/100\n",
            "9/9 [==============================] - 7s 772ms/step - loss: 0.1116 - accuracy: 0.9951 - val_loss: 0.9138 - val_accuracy: 0.9375\n",
            "Epoch 55/100\n",
            "9/9 [==============================] - 7s 772ms/step - loss: 0.1043 - accuracy: 0.9781 - val_loss: 0.9484 - val_accuracy: 0.9062\n",
            "Epoch 56/100\n",
            "9/9 [==============================] - 7s 803ms/step - loss: 0.0230 - accuracy: 0.9924 - val_loss: 2.7346 - val_accuracy: 0.6562\n",
            "Epoch 57/100\n",
            "9/9 [==============================] - 7s 775ms/step - loss: 0.2934 - accuracy: 0.9840 - val_loss: 6.4195 - val_accuracy: 0.6719\n",
            "Epoch 58/100\n",
            "9/9 [==============================] - 7s 771ms/step - loss: 0.5187 - accuracy: 0.9736 - val_loss: 96.7120 - val_accuracy: 0.3906\n",
            "Epoch 59/100\n",
            "9/9 [==============================] - 7s 773ms/step - loss: 0.1689 - accuracy: 0.9877 - val_loss: 160.7650 - val_accuracy: 0.3594\n",
            "Epoch 60/100\n",
            "9/9 [==============================] - 7s 771ms/step - loss: 1.7609 - accuracy: 0.9264 - val_loss: 64.1814 - val_accuracy: 0.6250\n",
            "Epoch 61/100\n",
            "9/9 [==============================] - 7s 772ms/step - loss: 0.0282 - accuracy: 0.9989 - val_loss: 13.6685 - val_accuracy: 0.8906\n",
            "Epoch 62/100\n",
            "9/9 [==============================] - 7s 773ms/step - loss: 0.3214 - accuracy: 0.9782 - val_loss: 3.3806 - val_accuracy: 0.9531\n",
            "Epoch 63/100\n",
            "9/9 [==============================] - 7s 774ms/step - loss: 0.0013 - accuracy: 1.0000 - val_loss: 1.6991 - val_accuracy: 0.9688\n",
            "Epoch 64/100\n",
            "9/9 [==============================] - 7s 773ms/step - loss: 0.0048 - accuracy: 0.9972 - val_loss: 0.0000e+00 - val_accuracy: 1.0000\n",
            "Epoch 65/100\n",
            "9/9 [==============================] - 7s 776ms/step - loss: 0.0000e+00 - accuracy: 1.0000 - val_loss: 0.2601 - val_accuracy: 0.9844\n",
            "Epoch 66/100\n",
            "9/9 [==============================] - 7s 799ms/step - loss: 0.0000e+00 - accuracy: 1.0000 - val_loss: 0.5498 - val_accuracy: 0.9844\n",
            "Epoch 67/100\n",
            "9/9 [==============================] - 7s 774ms/step - loss: 9.3819e-08 - accuracy: 1.0000 - val_loss: 0.6718 - val_accuracy: 0.9844\n",
            "Epoch 68/100\n",
            "9/9 [==============================] - 7s 773ms/step - loss: 1.5784e-04 - accuracy: 1.0000 - val_loss: 0.6836 - val_accuracy: 0.9844\n",
            "Epoch 69/100\n",
            "9/9 [==============================] - 7s 772ms/step - loss: 0.0000e+00 - accuracy: 1.0000 - val_loss: 0.6182 - val_accuracy: 0.9844\n",
            "Epoch 70/100\n",
            "9/9 [==============================] - 7s 803ms/step - loss: 0.0000e+00 - accuracy: 1.0000 - val_loss: 0.5565 - val_accuracy: 0.9844\n",
            "Epoch 71/100\n",
            "9/9 [==============================] - 7s 776ms/step - loss: 0.0000e+00 - accuracy: 1.0000 - val_loss: 0.4903 - val_accuracy: 0.9844\n",
            "Epoch 72/100\n",
            "9/9 [==============================] - 7s 771ms/step - loss: 0.0000e+00 - accuracy: 1.0000 - val_loss: 0.4178 - val_accuracy: 0.9844\n",
            "Epoch 73/100\n",
            "9/9 [==============================] - 7s 774ms/step - loss: 0.0000e+00 - accuracy: 1.0000 - val_loss: 0.3446 - val_accuracy: 0.9844\n",
            "Epoch 74/100\n",
            "9/9 [==============================] - 7s 780ms/step - loss: 4.3845e-10 - accuracy: 1.0000 - val_loss: 0.2570 - val_accuracy: 0.9844\n",
            "Epoch 75/100\n",
            "9/9 [==============================] - 7s 801ms/step - loss: 0.0000e+00 - accuracy: 1.0000 - val_loss: 0.1726 - val_accuracy: 0.9844\n",
            "Epoch 76/100\n",
            "9/9 [==============================] - 7s 773ms/step - loss: 0.0000e+00 - accuracy: 1.0000 - val_loss: 0.0886 - val_accuracy: 0.9844\n",
            "Epoch 77/100\n",
            "9/9 [==============================] - 7s 800ms/step - loss: 0.0000e+00 - accuracy: 1.0000 - val_loss: 0.0150 - val_accuracy: 0.9844\n",
            "Epoch 78/100\n",
            "9/9 [==============================] - 7s 801ms/step - loss: 0.0000e+00 - accuracy: 1.0000 - val_loss: 2.0843e-04 - val_accuracy: 1.0000\n",
            "Epoch 79/100\n",
            "9/9 [==============================] - 7s 773ms/step - loss: 0.0000e+00 - accuracy: 1.0000 - val_loss: 1.6539e-06 - val_accuracy: 1.0000\n",
            "Epoch 80/100\n",
            "9/9 [==============================] - 7s 774ms/step - loss: 0.0000e+00 - accuracy: 1.0000 - val_loss: 2.2352e-08 - val_accuracy: 1.0000\n",
            "Epoch 81/100\n",
            "9/9 [==============================] - 7s 773ms/step - loss: 0.0000e+00 - accuracy: 1.0000 - val_loss: 0.0000e+00 - val_accuracy: 1.0000\n",
            "Epoch 82/100\n",
            "9/9 [==============================] - 7s 771ms/step - loss: 2.8386e-09 - accuracy: 1.0000 - val_loss: 0.0000e+00 - val_accuracy: 1.0000\n",
            "Epoch 83/100\n",
            "9/9 [==============================] - 7s 770ms/step - loss: 0.0000e+00 - accuracy: 1.0000 - val_loss: 0.0000e+00 - val_accuracy: 1.0000\n",
            "Epoch 84/100\n",
            "9/9 [==============================] - 7s 799ms/step - loss: 0.0000e+00 - accuracy: 1.0000 - val_loss: 0.0000e+00 - val_accuracy: 1.0000\n",
            "Epoch 85/100\n",
            "9/9 [==============================] - 7s 773ms/step - loss: 0.0000e+00 - accuracy: 1.0000 - val_loss: 0.0000e+00 - val_accuracy: 1.0000\n",
            "Epoch 86/100\n",
            "9/9 [==============================] - 7s 775ms/step - loss: 0.0000e+00 - accuracy: 1.0000 - val_loss: 0.0000e+00 - val_accuracy: 1.0000\n",
            "Epoch 87/100\n",
            "9/9 [==============================] - 7s 771ms/step - loss: 0.0000e+00 - accuracy: 1.0000 - val_loss: 0.0000e+00 - val_accuracy: 1.0000\n",
            "Epoch 88/100\n",
            "9/9 [==============================] - 7s 798ms/step - loss: 0.0000e+00 - accuracy: 1.0000 - val_loss: 0.0000e+00 - val_accuracy: 1.0000\n",
            "Epoch 89/100\n",
            "9/9 [==============================] - 7s 773ms/step - loss: 0.0000e+00 - accuracy: 1.0000 - val_loss: 0.0000e+00 - val_accuracy: 1.0000\n",
            "Epoch 90/100\n",
            "9/9 [==============================] - 7s 771ms/step - loss: 0.0000e+00 - accuracy: 1.0000 - val_loss: 0.0000e+00 - val_accuracy: 1.0000\n",
            "Epoch 91/100\n",
            "9/9 [==============================] - 7s 799ms/step - loss: 0.0000e+00 - accuracy: 1.0000 - val_loss: 0.0000e+00 - val_accuracy: 1.0000\n",
            "Epoch 92/100\n",
            "9/9 [==============================] - 7s 773ms/step - loss: 0.0000e+00 - accuracy: 1.0000 - val_loss: 0.0000e+00 - val_accuracy: 1.0000\n",
            "Epoch 93/100\n",
            "9/9 [==============================] - 7s 771ms/step - loss: 0.0000e+00 - accuracy: 1.0000 - val_loss: 0.0000e+00 - val_accuracy: 1.0000\n",
            "Epoch 94/100\n",
            "9/9 [==============================] - 7s 798ms/step - loss: 0.0000e+00 - accuracy: 1.0000 - val_loss: 0.0000e+00 - val_accuracy: 1.0000\n",
            "Epoch 95/100\n",
            "9/9 [==============================] - 7s 772ms/step - loss: 0.0000e+00 - accuracy: 1.0000 - val_loss: 0.0000e+00 - val_accuracy: 1.0000\n",
            "Epoch 96/100\n",
            "9/9 [==============================] - 7s 769ms/step - loss: 0.0000e+00 - accuracy: 1.0000 - val_loss: 0.0000e+00 - val_accuracy: 1.0000\n",
            "Epoch 97/100\n",
            "9/9 [==============================] - 7s 771ms/step - loss: 0.0000e+00 - accuracy: 1.0000 - val_loss: 0.0000e+00 - val_accuracy: 1.0000\n",
            "Epoch 98/100\n",
            "9/9 [==============================] - 7s 798ms/step - loss: 0.0000e+00 - accuracy: 1.0000 - val_loss: 0.0000e+00 - val_accuracy: 1.0000\n",
            "Epoch 99/100\n",
            "9/9 [==============================] - 7s 800ms/step - loss: 0.0000e+00 - accuracy: 1.0000 - val_loss: 0.0000e+00 - val_accuracy: 1.0000\n",
            "Epoch 100/100\n",
            "9/9 [==============================] - 7s 801ms/step - loss: 0.0000e+00 - accuracy: 1.0000 - val_loss: 0.0000e+00 - val_accuracy: 1.0000\n"
          ],
          "name": "stdout"
        }
      ]
    },
    {
      "cell_type": "code",
      "metadata": {
        "id": "e3tLDDEMo5Yj",
        "colab": {
          "base_uri": "https://localhost:8080/"
        },
        "outputId": "c3d3abcf-696f-4db6-f891-38fb96cfae09"
      },
      "source": [
        "net_final.save(\"/content/drive/MyDrive/ILD_3 classes_May_2021/Trained_best_model/)\""
      ],
      "execution_count": null,
      "outputs": [
        {
          "output_type": "stream",
          "text": [
            "INFO:tensorflow:Assets written to: /content/drive/MyDrive/ILD_3 classes_May_2021/Trained_best_model/assets\n"
          ],
          "name": "stdout"
        }
      ]
    },
    {
      "cell_type": "code",
      "metadata": {
        "id": "098qITW_-ins",
        "colab": {
          "base_uri": "https://localhost:8080/",
          "height": 573
        },
        "outputId": "02217d99-33a0-4344-f072-8de1ff07a49b"
      },
      "source": [
        "# Plot training & validation accuracy and loss\n",
        "\n",
        "plt.plot(hist.history['accuracy'])\n",
        "plt.plot(hist.history['val_accuracy'])\n",
        "plt.title('Model Accuracy')\n",
        "plt.ylabel('Accuracy')\n",
        "plt.xlabel('Epoch')\n",
        "plt.legend(['Train', 'Val.'], loc='upper left')\n",
        "plt.show()\n",
        "\n",
        "# Plot training & validation loss values\n",
        "plt.plot(hist.history['loss'])\n",
        "plt.plot(hist.history['val_loss'])\n",
        "plt.title('Model loss')\n",
        "plt.ylabel('Loss')\n",
        "plt.xlabel('Epoch')\n",
        "plt.legend(['Train', 'Val'], loc='upper left')\n",
        "plt.show()"
      ],
      "execution_count": null,
      "outputs": [
        {
          "output_type": "display_data",
          "data": {
            "image/png": "[encoded data removed]",
            "text/plain": [
              "<Figure size 432x288 with 1 Axes>"
            ]
          },
          "metadata": {
            "tags": [],
            "needs_background": "light"
          }
        },
        {
          "output_type": "display_data",
          "data": {
            "image/png": "[encoded data removed]",
            "text/plain": [
              "<Figure size 432x288 with 1 Axes>"
            ]
          },
          "metadata": {
            "tags": [],
            "needs_background": "light"
          }
        }
      ]
    },
    {
      "cell_type": "markdown",
      "metadata": {
        "id": "Us01xKG7Xxij"
      },
      "source": [
        "##Model achieved 100% validation accuracy"
      ]
    }
  ]
}