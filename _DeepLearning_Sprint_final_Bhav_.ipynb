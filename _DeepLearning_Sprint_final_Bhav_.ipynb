{
  "nbformat": 4,
  "nbformat_minor": 0,
  "metadata": {
    "accelerator": "GPU",
    "colab": {
      "name": "**DeepLearning_Sprint_final_Bhav_.ipynb",
      "provenance": [],
      "collapsed_sections": [],
      "machine_shape": "hm",
      "include_colab_link": true
    },
    "kernel_info": {
      "name": "u4-s3-dnn"
    },
    "kernelspec": {
      "name": "python3",
      "display_name": "Python 3"
    },
    "nteract": {
      "version": "0.15.0"
    }
  },
  "cells": [
    {
      "cell_type": "markdown",
      "metadata": {
        "id": "view-in-github",
        "colab_type": "text"
      },
      "source": [
        "<a href=\"https://colab.research.google.com/github/bs3537/DS-Unit-4-Sprint-3-Deep-Learning/blob/master/_DeepLearning_Sprint_final_Bhav_.ipynb\" target=\"_parent\"><img src=\"https://colab.research.google.com/assets/colab-badge.svg\" alt=\"Open In Colab\"/></a>"
      ]
    },
    {
      "cell_type": "markdown",
      "metadata": {
        "id": "8WP8h0oPtVY1",
        "colab_type": "text"
      },
      "source": [
        "<img align=\"left\" src=\"https://lever-client-logos.s3.amazonaws.com/864372b1-534c-480e-acd5-9711f850815c-1524247202159.png\" width=200>\n",
        "<br></br>\n",
        "<br></br>\n",
        "\n",
        "# Major Neural Network Architectures Challenge\n",
        "## *Data Science Unit 4 Sprint 3 Challenge*\n",
        "\n",
        "In this sprint challenge, you'll explore some of the cutting edge of Data Science. This week we studied several famous neural network architectures: \n",
        "recurrent neural networks (RNNs), long short-term memory (LSTMs), convolutional neural networks (CNNs), and Generative Adverserial Networks (GANs). In this sprint challenge, you will revisit these models. Remember, we are testing your knowledge of these architectures not your ability to fit a model with high accuracy. \n",
        "\n",
        "__*Caution:*__  these approaches can be pretty heavy computationally. All problems were designed so that you should be able to achieve results within at most 5-10 minutes of runtime locally, on AWS SageMaker, on Colab or on a comparable environment. If something is running longer, double check your approach!\n",
        "\n",
        "## Challenge Objectives\n",
        "*You should be able to:*\n",
        "* <a href=\"#p1\">Part 1</a>: Train a LSTM classification model\n",
        "* <a href=\"#p2\">Part 2</a>: Utilize a pre-trained CNN for objective detection\n",
        "* <a href=\"#p3\">Part 3</a>: Describe a use case for an autoencoder\n",
        "* <a href=\"#p4\">Part 4</a>: Describe yourself as a Data Scientist and elucidate your vision of AI"
      ]
    },
    {
      "cell_type": "markdown",
      "metadata": {
        "colab_type": "text",
        "id": "-5UwGRnJOmD4"
      },
      "source": [
        "<a id=\"p1\"></a>\n",
        "## Part 1 - LSTMs\n",
        "\n",
        "Use an LSTM to fit a multi-class classification model on reuters news articles to distinguish topics of articles. The data is already encoded properly for use in an RNN model. \n",
        "\n",
        "Your Tasks: \n",
        "- Use Keras to fit a predictive model, classifying news articles into topics. \n",
        "- Report your overall score and accuracy\n",
        "\n",
        "For reference, the [Keras IMDB sentiment classification example](https://github.com/keras-team/keras/blob/master/examples/imdb_lstm.py) will be useful, as well the RNN code we used in class.\n",
        "\n",
        "__*Note:*__  Focus on getting a running model, not on maxing accuracy with extreme data size or epoch numbers. Only revisit and push accuracy if you get everything else done!"
      ]
    },
    {
      "cell_type": "code",
      "metadata": {
        "id": "PBgbaylSOLpI",
        "colab_type": "code",
        "outputId": "5ca26c27-4b1f-4c73-ec45-60964a5ac7d4",
        "colab": {
          "base_uri": "https://localhost:8080/",
          "height": 326
        }
      },
      "source": [
        "# Check that we have a GPU instance of Colab\n",
        "gpu_info = !nvidia-smi\n",
        "gpu_info = '\\n'.join(gpu_info)\n",
        "if gpu_info.find('failed') >= 0:\n",
        "  print('Select the Runtime → \"Change runtime type\" menu to enable a GPU accelerator, ')\n",
        "  print('and then re-execute this cell.')\n",
        "else:\n",
        "  print(gpu_info)"
      ],
      "execution_count": 1,
      "outputs": [
        {
          "output_type": "stream",
          "text": [
            "Sat May  2 02:49:56 2020       \n",
            "+-----------------------------------------------------------------------------+\n",
            "| NVIDIA-SMI 440.64.00    Driver Version: 418.67       CUDA Version: 10.1     |\n",
            "|-------------------------------+----------------------+----------------------+\n",
            "| GPU  Name        Persistence-M| Bus-Id        Disp.A | Volatile Uncorr. ECC |\n",
            "| Fan  Temp  Perf  Pwr:Usage/Cap|         Memory-Usage | GPU-Util  Compute M. |\n",
            "|===============================+======================+======================|\n",
            "|   0  Tesla P100-PCIE...  Off  | 00000000:00:04.0 Off |                    0 |\n",
            "| N/A   41C    P0    28W / 250W |      0MiB / 16280MiB |      0%      Default |\n",
            "+-------------------------------+----------------------+----------------------+\n",
            "                                                                               \n",
            "+-----------------------------------------------------------------------------+\n",
            "| Processes:                                                       GPU Memory |\n",
            "|  GPU       PID   Type   Process name                             Usage      |\n",
            "|=============================================================================|\n",
            "|  No running processes found                                                 |\n",
            "+-----------------------------------------------------------------------------+\n"
          ],
          "name": "stdout"
        }
      ]
    },
    {
      "cell_type": "code",
      "metadata": {
        "colab_type": "code",
        "id": "DS-9ksWjoJit",
        "colab": {}
      },
      "source": [
        "from tensorflow.keras.datasets import reuters\n",
        "\n",
        "(X_train, y_train), (X_test, y_test) = reuters.load_data(num_words=None,\n",
        "                                                         skip_top=0,\n",
        "                                                         maxlen=None,\n",
        "                                                         test_split=0.2,\n",
        "                                                         seed=723812,\n",
        "                                                         start_char=1,\n",
        "                                                         oov_char=2,\n",
        "                                                         index_from=3)"
      ],
      "execution_count": 0,
      "outputs": []
    },
    {
      "cell_type": "code",
      "metadata": {
        "id": "21sMN_AFwRMz",
        "colab_type": "code",
        "outputId": "cdf34677-55b5-460f-9633-91d3de6bb2ef",
        "colab": {
          "base_uri": "https://localhost:8080/",
          "height": 35
        }
      },
      "source": [
        "y_train[10:]"
      ],
      "execution_count": 3,
      "outputs": [
        {
          "output_type": "execute_result",
          "data": {
            "text/plain": [
              "array([ 9,  8,  4, ..., 19,  3, 11])"
            ]
          },
          "metadata": {
            "tags": []
          },
          "execution_count": 3
        }
      ]
    },
    {
      "cell_type": "code",
      "metadata": {
        "id": "oDqszpgS484A",
        "colab_type": "code",
        "colab": {}
      },
      "source": [
        "# Get the word index from the dataset\n",
        "word_index = reuters.get_word_index(path=\"reuters_word_index.json\")\n",
        "\n",
        "# Ensure that \"special\" words are mapped into human readable terms \n",
        "word_index = {k:(v+3) for k,v in word_index.items()}\n",
        "word_index[\"<PAD>\"] = 0\n",
        "word_index[\"<START>\"] = 1\n",
        "word_index[\"<UNKNOWN>\"] = 2\n",
        "word_index[\"<UNUSED>\"] = 3\n",
        "\n",
        "# Perform reverse word lookup and make it callable\n",
        "reverse_word_index = dict([(value, key) for (key, value) in word_index.items()])\n",
        "def decode_review(text):\n",
        "    return ' '.join([reverse_word_index.get(i, '?') for i in text])"
      ],
      "execution_count": 0,
      "outputs": []
    },
    {
      "cell_type": "code",
      "metadata": {
        "id": "sykl_6nn5CIn",
        "colab_type": "code",
        "outputId": "e4bbd373-f1bd-4284-ea15-ab9bf2c97f00",
        "colab": {
          "base_uri": "https://localhost:8080/",
          "height": 199
        }
      },
      "source": [
        "# Concatonate test and training datasets\n",
        "import numpy as np\n",
        "\n",
        "allarticles = np.concatenate((X_train, X_test), axis=0)\n",
        "\n",
        "# Article lengths across test and training whole datasets\n",
        "print(\"Maximum article length: {}\".format(len(max((allarticles), key=len))))\n",
        "print(\"Minimum article length: {}\".format(len(min((allarticles), key=len))))\n",
        "result = [len(x) for x in allarticles]\n",
        "print(\"Mean article length: {}\".format(np.mean(result)))\n",
        "\n",
        "# Print an article and it's class as stored in the dataset. Replace the number\n",
        "# to select a different review.\n",
        "print(\"\")\n",
        "print(\"Machine readable Article\")\n",
        "print(\"  Article Text: \" + str(X_train[60]))\n",
        "print(\"  Article Class: \" + str(y_train[60]))\n",
        "\n",
        "# Print an article and it's class in human readable format. Replace the number\n",
        "# to select a different review.\n",
        "print(\"\")\n",
        "print(\"Human Readable Article\")\n",
        "print(\"  Article Text: \" + decode_review(X_train[60]))\n"
      ],
      "execution_count": 5,
      "outputs": [
        {
          "output_type": "stream",
          "text": [
            "Maximum article length: 2376\n",
            "Minimum article length: 2\n",
            "Mean article length: 145.96419665122906\n",
            "\n",
            "Machine readable Article\n",
            "  Article Text: [1, 53, 46, 160, 26, 14, 74, 142, 26, 39, 46, 4312, 4938, 14, 74, 957, 4835, 86, 19, 445, 18, 14, 32, 451, 18, 17, 12]\n",
            "  Article Class: 3\n",
            "\n",
            "Human Readable Article\n",
            "  Article Text: <START> shr loss 11 cts vs profit five cts net loss 279 726 vs profit 76 591 revs 1 300 000 vs 2 200 000 reuter 3\n"
          ],
          "name": "stdout"
        }
      ]
    },
    {
      "cell_type": "code",
      "metadata": {
        "id": "3wJPVOuSvsc0",
        "colab_type": "code",
        "outputId": "69b606be-5b90-46f5-f5ac-b921f0b291c9",
        "colab": {
          "base_uri": "https://localhost:8080/",
          "height": 35
        }
      },
      "source": [
        "num_classes = max(y_train) + 1\n",
        "print('Number of Classes: {}'.format(num_classes))"
      ],
      "execution_count": 6,
      "outputs": [
        {
          "output_type": "stream",
          "text": [
            "Number of Classes: 46\n"
          ],
          "name": "stdout"
        }
      ]
    },
    {
      "cell_type": "code",
      "metadata": {
        "id": "A0Ug1LkNvei5",
        "colab_type": "code",
        "colab": {}
      },
      "source": [
        "#Number of categories = 46 in labels"
      ],
      "execution_count": 0,
      "outputs": []
    },
    {
      "cell_type": "code",
      "metadata": {
        "colab_type": "code",
        "id": "fLKqFh8DovaN",
        "outputId": "2cb7287a-8a62-46d6-fcad-9d9af649f66b",
        "colab": {
          "base_uri": "https://localhost:8080/",
          "height": 72
        }
      },
      "source": [
        "print(f\"Iran is encoded as {word_index['iran']} in the data\")\n",
        "print(f\"London is encoded as {word_index['london']} in the data\")\n",
        "print(\"Words are encoded as numbers in our dataset.\")"
      ],
      "execution_count": 8,
      "outputs": [
        {
          "output_type": "stream",
          "text": [
            "Iran is encoded as 782 in the data\n",
            "London is encoded as 547 in the data\n",
            "Words are encoded as numbers in our dataset.\n"
          ],
          "name": "stdout"
        }
      ]
    },
    {
      "cell_type": "code",
      "metadata": {
        "id": "Q8ZR6yRnuoEZ",
        "colab_type": "code",
        "outputId": "77d8edcb-9cc0-4b1b-e23d-4e2b96174a8d",
        "colab": {
          "base_uri": "https://localhost:8080/",
          "height": 35
        }
      },
      "source": [
        "max_features = len(word_index.values()) + 1 # 1 seems added here to make the max_features a number divisible by 8 since I am using batch size of 8 for GPU\n",
        "max_features"
      ],
      "execution_count": 9,
      "outputs": [
        {
          "output_type": "execute_result",
          "data": {
            "text/plain": [
              "30984"
            ]
          },
          "metadata": {
            "tags": []
          },
          "execution_count": 9
        }
      ]
    },
    {
      "cell_type": "code",
      "metadata": {
        "id": "I2ZGL2yLAjAc",
        "colab_type": "code",
        "colab": {}
      },
      "source": [
        "from tensorflow.keras.preprocessing import sequence\n",
        "from tensorflow.keras.models import Sequential\n",
        "from tensorflow.keras.layers import Dense, Embedding, LSTM, Bidirectional, Dropout, Conv1D, MaxPooling1D, PReLU"
      ],
      "execution_count": 0,
      "outputs": []
    },
    {
      "cell_type": "code",
      "metadata": {
        "id": "qXOJ_MFGA3dm",
        "colab_type": "code",
        "colab": {}
      },
      "source": [
        "batch_size = 8\n",
        "maxlen = 2376\n",
        "num_classes = 46"
      ],
      "execution_count": 0,
      "outputs": []
    },
    {
      "cell_type": "code",
      "metadata": {
        "id": "Vqs2ZslmCo6H",
        "colab_type": "code",
        "colab": {
          "base_uri": "https://localhost:8080/",
          "height": 108
        },
        "outputId": "f021e586-f867-4479-84cd-44e5518e3e0b"
      },
      "source": [
        "print(len(X_train), 'train sequences')\n",
        "print(len(X_test), 'test sequences')\n",
        "\n",
        "print('Pad sequences (samples x time)')\n",
        "X_train = sequence.pad_sequences(X_train, maxlen=maxlen)\n",
        "X_test = sequence.pad_sequences(X_test, maxlen=maxlen)\n",
        "print('X_train shape:', X_train.shape)\n",
        "print('X_test shape:', X_test.shape)"
      ],
      "execution_count": 12,
      "outputs": [
        {
          "output_type": "stream",
          "text": [
            "8982 train sequences\n",
            "2246 test sequences\n",
            "Pad sequences (samples x time)\n",
            "X_train shape: (8982, 2376)\n",
            "X_test shape: (2246, 2376)\n"
          ],
          "name": "stdout"
        }
      ]
    },
    {
      "cell_type": "markdown",
      "metadata": {
        "id": "3wOikLACSwsB",
        "colab_type": "text"
      },
      "source": [
        "RUN 1"
      ]
    },
    {
      "cell_type": "code",
      "metadata": {
        "colab_type": "code",
        "id": "_QVSlFEAqWJM",
        "colab": {}
      },
      "source": [
        "\n",
        "\n",
        "#MODEL ARCHITTECTURE= BIDIRECTIONAL LSTM \n",
        "\n",
        "model = Sequential()\n",
        "model.add(Embedding(max_features, 128))\n",
        "model.add(Bidirectional(LSTM(128))) #**Bidirectional LSTM Layer (RNN)**\n",
        "model.add(Dropout(0.25))\n",
        "model.add(Dense(num_classes, activation='softmax'))\n",
        "\n"
      ],
      "execution_count": 0,
      "outputs": []
    },
    {
      "cell_type": "code",
      "metadata": {
        "id": "NcG6elnytVY_",
        "colab_type": "code",
        "colab": {}
      },
      "source": [
        "import tensorflow\n",
        "from tensorflow.keras.optimizers import *\n",
        "from tensorflow.keras.callbacks import EarlyStopping, ReduceLROnPlateau, ModelCheckpoint\n",
        "\n",
        "model.compile(loss='sparse_categorical_crossentropy',\n",
        "              optimizer='adam',\n",
        "              metrics=['accuracy'])\n",
        "\n"
      ],
      "execution_count": 0,
      "outputs": []
    },
    {
      "cell_type": "code",
      "metadata": {
        "id": "MYAUQN9s3UFv",
        "colab_type": "code",
        "outputId": "eff46cae-6baf-4c31-ad6d-4e70230a68d5",
        "colab": {
          "base_uri": "https://localhost:8080/",
          "height": 308
        }
      },
      "source": [
        "model.summary()"
      ],
      "execution_count": 15,
      "outputs": [
        {
          "output_type": "stream",
          "text": [
            "Model: \"sequential\"\n",
            "_________________________________________________________________\n",
            "Layer (type)                 Output Shape              Param #   \n",
            "=================================================================\n",
            "embedding (Embedding)        (None, None, 128)         3965952   \n",
            "_________________________________________________________________\n",
            "bidirectional (Bidirectional (None, 256)               263168    \n",
            "_________________________________________________________________\n",
            "dropout (Dropout)            (None, 256)               0         \n",
            "_________________________________________________________________\n",
            "dense (Dense)                (None, 46)                11822     \n",
            "=================================================================\n",
            "Total params: 4,240,942\n",
            "Trainable params: 4,240,942\n",
            "Non-trainable params: 0\n",
            "_________________________________________________________________\n"
          ],
          "name": "stdout"
        }
      ]
    },
    {
      "cell_type": "code",
      "metadata": {
        "id": "LpJRCfEZzVf9",
        "colab_type": "code",
        "colab": {}
      },
      "source": [
        "\n",
        "\n",
        "rlrop = ReduceLROnPlateau(monitor='val_loss', mode='min', min_delta=0.001, factor=0.2, patience=1)\n",
        "stop = EarlyStopping(monitor='val_loss', mode='min', min_delta=0.001, patience=3, verbose=1)\n",
        "#filepath=\"/content/drive/My Drive/Lambda DS_Unit 4 Deep Learning/CNNs/data/reuters_LSTM_v1.hdf5\"\n",
        "#checkpoint = ModelCheckpoint(filepath, monitor='val_loss', verbose=1, save_best_only=True, mode='min', save_freq='epoch')"
      ],
      "execution_count": 0,
      "outputs": []
    },
    {
      "cell_type": "code",
      "metadata": {
        "id": "OWTdDlmZzJWD",
        "colab_type": "code",
        "outputId": "32bc72c7-3bb0-44ff-9a06-5d5235410033",
        "colab": {
          "base_uri": "https://localhost:8080/",
          "height": 417
        }
      },
      "source": [
        "print('Train...')\n",
        "hist = model.fit(X_train, y_train,\n",
        "          batch_size=batch_size,\n",
        "          epochs=30,\n",
        "          validation_data=(X_test, y_test), callbacks=[stop, rlrop])\n",
        "\n"
      ],
      "execution_count": 17,
      "outputs": [
        {
          "output_type": "stream",
          "text": [
            "Train...\n",
            "Epoch 1/30\n",
            "1123/1123 [==============================] - 218s 194ms/step - loss: 1.9430 - accuracy: 0.5125 - val_loss: 1.6881 - val_accuracy: 0.5512 - lr: 0.0010\n",
            "Epoch 2/30\n",
            "1123/1123 [==============================] - 217s 193ms/step - loss: 1.6352 - accuracy: 0.5817 - val_loss: 1.6248 - val_accuracy: 0.5962 - lr: 0.0010\n",
            "Epoch 3/30\n",
            "1123/1123 [==============================] - 217s 193ms/step - loss: 1.3491 - accuracy: 0.6584 - val_loss: 1.4056 - val_accuracy: 0.6465 - lr: 0.0010\n",
            "Epoch 4/30\n",
            "1123/1123 [==============================] - 218s 194ms/step - loss: 1.0778 - accuracy: 0.7256 - val_loss: 1.3538 - val_accuracy: 0.6741 - lr: 0.0010\n",
            "Epoch 5/30\n",
            "1123/1123 [==============================] - 217s 193ms/step - loss: 0.8410 - accuracy: 0.7862 - val_loss: 1.4360 - val_accuracy: 0.6808 - lr: 0.0010\n",
            "Epoch 6/30\n",
            "1123/1123 [==============================] - 217s 193ms/step - loss: 0.6059 - accuracy: 0.8427 - val_loss: 1.3540 - val_accuracy: 0.6825 - lr: 2.0000e-04\n",
            "Epoch 7/30\n",
            "1123/1123 [==============================] - 217s 193ms/step - loss: 0.5108 - accuracy: 0.8703 - val_loss: 1.3494 - val_accuracy: 0.6915 - lr: 4.0000e-05\n",
            "Epoch 8/30\n",
            "1123/1123 [==============================] - 217s 193ms/step - loss: 0.4912 - accuracy: 0.8737 - val_loss: 1.3654 - val_accuracy: 0.6946 - lr: 4.0000e-05\n",
            "Epoch 9/30\n",
            "1123/1123 [==============================] - 217s 193ms/step - loss: 0.4694 - accuracy: 0.8792 - val_loss: 1.3660 - val_accuracy: 0.6955 - lr: 8.0000e-06\n",
            "Epoch 10/30\n",
            "1123/1123 [==============================] - 217s 193ms/step - loss: 0.4658 - accuracy: 0.8818 - val_loss: 1.3665 - val_accuracy: 0.6955 - lr: 1.6000e-06\n",
            "Epoch 00010: early stopping\n"
          ],
          "name": "stdout"
        }
      ]
    },
    {
      "cell_type": "code",
      "metadata": {
        "id": "m7I-zIMi1jI4",
        "colab_type": "code",
        "outputId": "7ba1d388-1f91-4e4c-d8ac-74d5b8d332f2",
        "colab": {
          "base_uri": "https://localhost:8080/",
          "height": 72
        }
      },
      "source": [
        "score, acc = model.evaluate(X_test, y_test,\n",
        "                            batch_size=batch_size)\n",
        "print('Test score:', score)\n",
        "print('Test accuracy:', acc)"
      ],
      "execution_count": 18,
      "outputs": [
        {
          "output_type": "stream",
          "text": [
            "281/281 [==============================] - 17s 62ms/step - loss: 1.3665 - accuracy: 0.6955\n",
            "Test score: 1.3665215969085693\n",
            "Test accuracy: 0.6954585909843445\n"
          ],
          "name": "stdout"
        }
      ]
    },
    {
      "cell_type": "code",
      "metadata": {
        "id": "fnqhks4y_BXE",
        "colab_type": "code",
        "outputId": "16818010-749a-4f57-f3da-bb059045a655",
        "colab": {
          "base_uri": "https://localhost:8080/",
          "height": 573
        }
      },
      "source": [
        "# Plot training & validation accuracy and loss\n",
        "import matplotlib.pyplot as plt\n",
        "\n",
        "plt.plot(hist.history['accuracy'])\n",
        "plt.plot(hist.history['val_accuracy'])\n",
        "plt.title('Model Accuracy')\n",
        "plt.ylabel('Accuracy')\n",
        "plt.xlabel('Epoch')\n",
        "plt.legend(['Train', 'Val.'], loc='upper left')\n",
        "plt.show()\n",
        "\n",
        "# Plot training & validation loss values\n",
        "plt.plot(hist.history['loss'])\n",
        "plt.plot(hist.history['val_loss'])\n",
        "plt.title('Model loss')\n",
        "plt.ylabel('Loss')\n",
        "plt.xlabel('Epoch')\n",
        "plt.legend(['Train', 'Val'], loc='upper left')\n",
        "plt.show()"
      ],
      "execution_count": 19,
      "outputs": [
        {
          "output_type": "display_data",
          "data": {
            "image/png": "[encoded data removed]",
            "text/plain": [
              "<Figure size 432x288 with 1 Axes>"
            ]
          },
          "metadata": {
            "tags": [],
            "needs_background": "light"
          }
        },
        {
          "output_type": "display_data",
          "data": {
            "image/png": "[encoded data removed]",
            "text/plain": [
              "<Figure size 432x288 with 1 Axes>"
            ]
          },
          "metadata": {
            "tags": [],
            "needs_background": "light"
          }
        }
      ]
    },
    {
      "cell_type": "markdown",
      "metadata": {
        "id": "y7MMZ4-LSrus",
        "colab_type": "text"
      },
      "source": [
        "RUN 2"
      ]
    },
    {
      "cell_type": "code",
      "metadata": {
        "id": "_wDC9jEeJZ1U",
        "colab_type": "code",
        "colab": {
          "base_uri": "https://localhost:8080/",
          "height": 308
        },
        "outputId": "f5c0befc-e22f-4e0f-f6e2-cee73a5cdf3f"
      },
      "source": [
        "#1 layer LSTM, no bidirectional\n",
        "\n",
        "lstm = Sequential()\n",
        "lstm.add(Embedding(max_features, 128))\n",
        "lstm.add(LSTM(128)) \n",
        "lstm.add(Dropout(0.25)) \n",
        "lstm.add(Dense(num_classes, activation='softmax'))    \n",
        "#\n",
        "lstm.compile(loss='sparse_categorical_crossentropy',\n",
        "             optimizer='adam', \n",
        "             metrics=['accuracy'])\n",
        "\n",
        "lstm.summary()"
      ],
      "execution_count": 20,
      "outputs": [
        {
          "output_type": "stream",
          "text": [
            "Model: \"sequential_1\"\n",
            "_________________________________________________________________\n",
            "Layer (type)                 Output Shape              Param #   \n",
            "=================================================================\n",
            "embedding_1 (Embedding)      (None, None, 128)         3965952   \n",
            "_________________________________________________________________\n",
            "lstm_1 (LSTM)                (None, 128)               131584    \n",
            "_________________________________________________________________\n",
            "dropout_1 (Dropout)          (None, 128)               0         \n",
            "_________________________________________________________________\n",
            "dense_1 (Dense)              (None, 46)                5934      \n",
            "=================================================================\n",
            "Total params: 4,103,470\n",
            "Trainable params: 4,103,470\n",
            "Non-trainable params: 0\n",
            "_________________________________________________________________\n"
          ],
          "name": "stdout"
        }
      ]
    },
    {
      "cell_type": "code",
      "metadata": {
        "id": "2z5mfGZoJ7-X",
        "colab_type": "code",
        "colab": {
          "base_uri": "https://localhost:8080/",
          "height": 490
        },
        "outputId": "6cb04075-1d7e-443d-cf0e-fc71ddc7d972"
      },
      "source": [
        "print('Train...')\n",
        "hist2 = lstm.fit(X_train, y_train,\n",
        "          batch_size=batch_size,\n",
        "          epochs=30,\n",
        "          validation_data=(X_test, y_test), callbacks=[stop, rlrop])"
      ],
      "execution_count": 21,
      "outputs": [
        {
          "output_type": "stream",
          "text": [
            "Train...\n",
            "Epoch 1/30\n",
            "1123/1123 [==============================] - 123s 109ms/step - loss: 2.1484 - accuracy: 0.4537 - val_loss: 1.7598 - val_accuracy: 0.5490 - lr: 0.0010\n",
            "Epoch 2/30\n",
            "1123/1123 [==============================] - 122s 109ms/step - loss: 1.7155 - accuracy: 0.5636 - val_loss: 1.5970 - val_accuracy: 0.6024 - lr: 0.0010\n",
            "Epoch 3/30\n",
            "1123/1123 [==============================] - 122s 109ms/step - loss: 1.5162 - accuracy: 0.6265 - val_loss: 1.4935 - val_accuracy: 0.6287 - lr: 0.0010\n",
            "Epoch 4/30\n",
            "1123/1123 [==============================] - 123s 109ms/step - loss: 1.2588 - accuracy: 0.6897 - val_loss: 1.2544 - val_accuracy: 0.6906 - lr: 0.0010\n",
            "Epoch 5/30\n",
            "1123/1123 [==============================] - 123s 109ms/step - loss: 1.3205 - accuracy: 0.6706 - val_loss: 1.2517 - val_accuracy: 0.6852 - lr: 0.0010\n",
            "Epoch 6/30\n",
            "1123/1123 [==============================] - 123s 109ms/step - loss: 0.8994 - accuracy: 0.7723 - val_loss: 1.1538 - val_accuracy: 0.7146 - lr: 0.0010\n",
            "Epoch 7/30\n",
            "1123/1123 [==============================] - 123s 109ms/step - loss: 0.7095 - accuracy: 0.8202 - val_loss: 1.1364 - val_accuracy: 0.7364 - lr: 0.0010\n",
            "Epoch 8/30\n",
            "1123/1123 [==============================] - 123s 109ms/step - loss: 0.5605 - accuracy: 0.8625 - val_loss: 1.1382 - val_accuracy: 0.7435 - lr: 0.0010\n",
            "Epoch 9/30\n",
            "1123/1123 [==============================] - 123s 110ms/step - loss: 0.3996 - accuracy: 0.9024 - val_loss: 1.1247 - val_accuracy: 0.7502 - lr: 2.0000e-04\n",
            "Epoch 10/30\n",
            "1123/1123 [==============================] - 122s 109ms/step - loss: 0.3423 - accuracy: 0.9161 - val_loss: 1.1477 - val_accuracy: 0.7569 - lr: 2.0000e-04\n",
            "Epoch 11/30\n",
            "1123/1123 [==============================] - 123s 109ms/step - loss: 0.2916 - accuracy: 0.9275 - val_loss: 1.1600 - val_accuracy: 0.7582 - lr: 4.0000e-05\n",
            "Epoch 12/30\n",
            "1123/1123 [==============================] - 123s 109ms/step - loss: 0.2835 - accuracy: 0.9309 - val_loss: 1.1598 - val_accuracy: 0.7605 - lr: 8.0000e-06\n",
            "Epoch 00012: early stopping\n"
          ],
          "name": "stdout"
        }
      ]
    },
    {
      "cell_type": "code",
      "metadata": {
        "id": "1ANPlPONRCuo",
        "colab_type": "code",
        "colab": {
          "base_uri": "https://localhost:8080/",
          "height": 72
        },
        "outputId": "ddd9c7dd-cf29-40c1-cdff-6ce563a725e4"
      },
      "source": [
        "score, acc = lstm.evaluate(X_test, y_test,\n",
        "                            batch_size=batch_size)\n",
        "print('Test score:', score)\n",
        "print('Test accuracy:', acc)"
      ],
      "execution_count": 24,
      "outputs": [
        {
          "output_type": "stream",
          "text": [
            "281/281 [==============================] - 9s 33ms/step - loss: 1.1598 - accuracy: 0.7605\n",
            "Test score: 1.1597980260849\n",
            "Test accuracy: 0.7604630589485168\n"
          ],
          "name": "stdout"
        }
      ]
    },
    {
      "cell_type": "code",
      "metadata": {
        "id": "EO4aL6Y8YIkf",
        "colab_type": "code",
        "colab": {
          "base_uri": "https://localhost:8080/",
          "height": 573
        },
        "outputId": "4c3f6b35-fa17-465f-c819-062966d2427d"
      },
      "source": [
        "# Plot training & validation accuracy and loss\n",
        "import matplotlib.pyplot as plt\n",
        "\n",
        "plt.plot(hist2.history['accuracy'])\n",
        "plt.plot(hist2.history['val_accuracy'])\n",
        "plt.title('Model Accuracy')\n",
        "plt.ylabel('Accuracy')\n",
        "plt.xlabel('Epoch')\n",
        "plt.legend(['Train', 'Val.'], loc='upper left')\n",
        "plt.show()\n",
        "\n",
        "# Plot training & validation loss values\n",
        "plt.plot(hist2.history['loss'])\n",
        "plt.plot(hist2.history['val_loss'])\n",
        "plt.title('Model loss')\n",
        "plt.ylabel('Loss')\n",
        "plt.xlabel('Epoch')\n",
        "plt.legend(['Train', 'Val'], loc='upper left')\n",
        "plt.show()"
      ],
      "execution_count": 25,
      "outputs": [
        {
          "output_type": "display_data",
          "data": {
            "image/png": "[encoded data removed]",
            "text/plain": [
              "<Figure size 432x288 with 1 Axes>"
            ]
          },
          "metadata": {
            "tags": [],
            "needs_background": "light"
          }
        },
        {
          "output_type": "display_data",
          "data": {
            "image/png": "[encoded data removed]",
            "text/plain": [
              "<Figure size 432x288 with 1 Axes>"
            ]
          },
          "metadata": {
            "tags": [],
            "needs_background": "light"
          }
        }
      ]
    },
    {
      "cell_type": "markdown",
      "metadata": {
        "id": "svpVPBPveOc3",
        "colab_type": "text"
      },
      "source": [
        "In this dataset, i got higher test accuracy with single LSTM (76%) than bidirectional but it could be due to memory restrictions on single GPU since bidirectional LSTM took almost 20 min to run and needs more memory. I think it can perform better than single LSTM on 2-3 GPUs. I also tried a CNN layer before bidirectional LSTM which ran faster (CNN+bidirectional LSTM) and it ran faster than bi-LSTM only and gave test acc. of 73%. "
      ]
    },
    {
      "cell_type": "markdown",
      "metadata": {
        "id": "AhATJHGTfTxH",
        "colab_type": "text"
      },
      "source": [
        "Best test accuracy was achieved in these 3 experiments using a single LSTM layer which also had the fastest run. I think on a single GPU, this is the fastest and the best NN architecture for a text classification problem like this and would be easy to compile and deploy. "
      ]
    },
    {
      "cell_type": "markdown",
      "metadata": {
        "id": "yCckgBi5fyZL",
        "colab_type": "text"
      },
      "source": [
        "The results can be further improved by tuning the learning rate, batch size, the dropout rate, type of optimizer, etc. if I had more time on this assignment. Gridsearch or Hyperas can help in this purpose."
      ]
    },
    {
      "cell_type": "markdown",
      "metadata": {
        "id": "ZFkLxNlutVZB",
        "colab_type": "text"
      },
      "source": [
        "## Sequence Data Question\n",
        "#### *Describe the `pad_sequences` method used on the training dataset. What does it do? Why do you need it?*\n",
        "\n",
        "Pad sequnce method in Keras is used to pad variable length sequences. It can be used to pad length sequences to a new desired length or or to truncate variable length sequences to a new desired length.\n",
        "\n",
        "## RNNs versus LSTMs\n",
        "#### *What are the primary motivations behind using Long-ShortTerm Memory Cell unit over traditional Recurrent Neural Networks?*\n",
        "\n",
        "LSTM have a different architecture than plain RNN like a forget gate. They are able to remember the sequence information better than a plain RNN. We did an example of this in the class on RNNs where the val. accuracy increased significantly on using LSTM vs. RNN. \n",
        "\n",
        "\n",
        "## RNN / LSTM Use Cases\n",
        "#### *Name and Describe 3 Use Cases of LSTMs or RNNs and why they are suited to that use case*\n",
        "\n",
        "1. Text classification\n",
        "2. Text Generation\n",
        "3. Time series forecasting\n",
        "4. Music Generation\n",
        "5. Handwriting recognition\n",
        "6. Language translation\n",
        "7. Image captioning\n",
        "\n",
        "All these tasks need the neural networks to remember the previous historical sequence of information (e.g. sequence of words in a sentence or text) which LSTM is able to do."
      ]
    },
    {
      "cell_type": "markdown",
      "metadata": {
        "colab_type": "text",
        "id": "yz0LCZd_O4IG"
      },
      "source": [
        "<a id=\"p2\"></a>\n",
        "## Part 2- CNNs\n",
        "\n",
        "### Find the Frog\n",
        "\n",
        "Time to play \"find the frog!\" Use Keras and ResNet50v2 (pre-trained) to detect which of the images with the frog_images subdirectory has a frog in it. Note: You will need to upload the images to Colab.\n",
        "\n",
        "<img align=\"left\" src=\"https://d3i6fh83elv35t.cloudfront.net/newshour/app/uploads/2017/03/GettyImages-654745934-1024x687.jpg\" width=400>\n"
      ]
    },
    {
      "cell_type": "markdown",
      "metadata": {
        "id": "CHhNvPu_WIpe",
        "colab_type": "text"
      },
      "source": [
        "The skimage function below will help you read in all the frog images into memory at once. You should use the preprocessing functions that come with ResnetV2 to help resize the images prior to inference. "
      ]
    },
    {
      "cell_type": "code",
      "metadata": {
        "id": "d2OORtM1g3md",
        "colab_type": "code",
        "colab": {
          "base_uri": "https://localhost:8080/",
          "height": 35
        },
        "outputId": "6298bbff-4ec6-4779-87ae-5a6164673d72"
      },
      "source": [
        "from google.colab import drive\n",
        "drive.mount('/content/drive', force_remount=True)"
      ],
      "execution_count": 225,
      "outputs": [
        {
          "output_type": "stream",
          "text": [
            "Mounted at /content/drive\n"
          ],
          "name": "stdout"
        }
      ]
    },
    {
      "cell_type": "code",
      "metadata": {
        "id": "Lcg7R_LAVdah",
        "colab_type": "code",
        "colab": {}
      },
      "source": [
        "from skimage.io import imread_collection\n",
        "from skimage.transform import resize\n",
        "import numpy as np\n",
        "#image path \n",
        "test_images = '/content/drive/My Drive/Lambda DS_Unit 4 Deep Learning/Sprint challenge files/resized/*.jpg'\n",
        "#creating a collection with the available images\n",
        "X_test = imread_collection(test_images).concatenate()\n",
        "#X_test = resize(X_test, (15,224,224,3))"
      ],
      "execution_count": 0,
      "outputs": []
    },
    {
      "cell_type": "code",
      "metadata": {
        "id": "nIhFIpB7YHsD",
        "colab_type": "code",
        "colab": {
          "base_uri": "https://localhost:8080/",
          "height": 35
        },
        "outputId": "373f64ab-6a04-4d24-ab05-1353909298e6"
      },
      "source": [
        "X_test.shape"
      ],
      "execution_count": 269,
      "outputs": [
        {
          "output_type": "execute_result",
          "data": {
            "text/plain": [
              "(15, 224, 224, 3)"
            ]
          },
          "metadata": {
            "tags": []
          },
          "execution_count": 269
        }
      ]
    },
    {
      "cell_type": "code",
      "metadata": {
        "id": "rKnaZcwluOe-",
        "colab_type": "code",
        "colab": {}
      },
      "source": [
        "\n",
        "import matplotlib.pyplot as plt\n",
        "import os\n",
        "from tensorflow.keras.applications.resnet_v2 import ResNet50V2, decode_predictions, preprocess_input"
      ],
      "execution_count": 0,
      "outputs": []
    },
    {
      "cell_type": "code",
      "metadata": {
        "id": "B7synsU4EKfa",
        "colab_type": "code",
        "colab": {}
      },
      "source": [
        "model = ResNet50V2(weights='imagenet')"
      ],
      "execution_count": 0,
      "outputs": []
    },
    {
      "cell_type": "code",
      "metadata": {
        "id": "uZjuVB8pSdrb",
        "colab_type": "code",
        "colab": {}
      },
      "source": [
        "preds = model.predict(X_test)"
      ],
      "execution_count": 0,
      "outputs": []
    },
    {
      "cell_type": "code",
      "metadata": {
        "id": "8VSupG0NYZUj",
        "colab_type": "code",
        "colab": {
          "base_uri": "https://localhost:8080/",
          "height": 254
        },
        "outputId": "5776d233-abdb-4317-cea1-cca9bed603de"
      },
      "source": [
        "preds"
      ],
      "execution_count": 273,
      "outputs": [
        {
          "output_type": "execute_result",
          "data": {
            "text/plain": [
              "array([[0.0000000e+00, 5.7320473e-33, 0.0000000e+00, ..., 0.0000000e+00,\n",
              "        0.0000000e+00, 0.0000000e+00],\n",
              "       [0.0000000e+00, 0.0000000e+00, 0.0000000e+00, ..., 0.0000000e+00,\n",
              "        0.0000000e+00, 0.0000000e+00],\n",
              "       [0.0000000e+00, 0.0000000e+00, 0.0000000e+00, ..., 0.0000000e+00,\n",
              "        0.0000000e+00, 0.0000000e+00],\n",
              "       ...,\n",
              "       [0.0000000e+00, 0.0000000e+00, 0.0000000e+00, ..., 0.0000000e+00,\n",
              "        0.0000000e+00, 0.0000000e+00],\n",
              "       [0.0000000e+00, 0.0000000e+00, 0.0000000e+00, ..., 0.0000000e+00,\n",
              "        0.0000000e+00, 0.0000000e+00],\n",
              "       [0.0000000e+00, 2.0550847e-28, 0.0000000e+00, ..., 0.0000000e+00,\n",
              "        0.0000000e+00, 0.0000000e+00]], dtype=float32)"
            ]
          },
          "metadata": {
            "tags": []
          },
          "execution_count": 273
        }
      ]
    },
    {
      "cell_type": "code",
      "metadata": {
        "id": "oXSmd8f7Yb9c",
        "colab_type": "code",
        "colab": {
          "base_uri": "https://localhost:8080/",
          "height": 35
        },
        "outputId": "06f66f00-9206-4585-ddfa-a5d4e1212bb5"
      },
      "source": [
        "preds.shape"
      ],
      "execution_count": 275,
      "outputs": [
        {
          "output_type": "execute_result",
          "data": {
            "text/plain": [
              "(15, 1000)"
            ]
          },
          "metadata": {
            "tags": []
          },
          "execution_count": 275
        }
      ]
    },
    {
      "cell_type": "code",
      "metadata": {
        "id": "ybx47zPYYs9P",
        "colab_type": "code",
        "colab": {}
      },
      "source": [
        "labels = decode_predictions(preds) "
      ],
      "execution_count": 0,
      "outputs": []
    },
    {
      "cell_type": "code",
      "metadata": {
        "id": "wGmDOPg_Y8PM",
        "colab_type": "code",
        "colab": {
          "base_uri": "https://localhost:8080/",
          "height": 1000
        },
        "outputId": "07df5d2e-f276-4aa6-f6b0-dbab63c2ab2b"
      },
      "source": [
        "labels"
      ],
      "execution_count": 277,
      "outputs": [
        {
          "output_type": "execute_result",
          "data": {
            "text/plain": [
              "[[('n02089973', 'English_foxhound', 0.990682),\n",
              "  ('n02356798', 'fox_squirrel', 0.008893087),\n",
              "  ('n04254777', 'sock', 0.00042448187),\n",
              "  ('n07613480', 'trifle', 2.933831e-07),\n",
              "  ('n02105056', 'groenendael', 2.5014106e-07)],\n",
              " [('n02089973', 'English_foxhound', 1.0),\n",
              "  ('n07613480', 'trifle', 2.8847148e-21),\n",
              "  ('n02105056', 'groenendael', 1.4885586e-22),\n",
              "  ('n02356798', 'fox_squirrel', 3.4934255e-27),\n",
              "  ('n02883205', 'bow_tie', 2.0763707e-37)],\n",
              " [('n03706229', 'magnetic_compass', 1.0),\n",
              "  ('n01688243', 'frilled_lizard', 7.827633e-13),\n",
              "  ('n02089973', 'English_foxhound', 5.5912736e-14),\n",
              "  ('n07613480', 'trifle', 6.9167906e-16),\n",
              "  ('n02356798', 'fox_squirrel', 4.0799684e-16)],\n",
              " [('n07613480', 'trifle', 0.9999999),\n",
              "  ('n02356798', 'fox_squirrel', 9.836181e-08),\n",
              "  ('n02123597', 'Siamese_cat', 1.3027331e-09),\n",
              "  ('n01855032', 'red-breasted_merganser', 5.5678717e-10),\n",
              "  ('n02089973', 'English_foxhound', 7.403126e-17)],\n",
              " [('n02089973', 'English_foxhound', 0.9999999),\n",
              "  ('n07613480', 'trifle', 1.1336241e-07),\n",
              "  ('n02105056', 'groenendael', 8.5505747e-10),\n",
              "  ('n02356798', 'fox_squirrel', 1.5744703e-14),\n",
              "  ('n02883205', 'bow_tie', 4.8468407e-15)],\n",
              " [('n02089973', 'English_foxhound', 1.0),\n",
              "  ('n07613480', 'trifle', 2.445705e-14),\n",
              "  ('n02123597', 'Siamese_cat', 7.657218e-29),\n",
              "  ('n01688243', 'frilled_lizard', 4.2539573e-29),\n",
              "  ('n02105056', 'groenendael', 6.0070585e-36)],\n",
              " [('n02089973', 'English_foxhound', 1.0),\n",
              "  ('n02123597', 'Siamese_cat', 4.1436276e-19),\n",
              "  ('n01855032', 'red-breasted_merganser', 3.9350693e-26),\n",
              "  ('n07613480', 'trifle', 3.871356e-27),\n",
              "  ('n15075141', 'toilet_tissue', 0.0)],\n",
              " [('n07613480', 'trifle', 0.99963105),\n",
              "  ('n02089973', 'English_foxhound', 0.0003689051),\n",
              "  ('n02356798', 'fox_squirrel', 1.08079925e-11),\n",
              "  ('n02105056', 'groenendael', 4.840067e-22),\n",
              "  ('n04254777', 'sock', 5.1444977e-25)],\n",
              " [('n02123597', 'Siamese_cat', 1.0),\n",
              "  ('n01688243', 'frilled_lizard', 4.2234837e-19),\n",
              "  ('n02356798', 'fox_squirrel', 2.4647932e-21),\n",
              "  ('n02089973', 'English_foxhound', 4.155269e-23),\n",
              "  ('n04326547', 'stone_wall', 3.2634494e-23)],\n",
              " [('n07613480', 'trifle', 1.0),\n",
              "  ('n02089973', 'English_foxhound', 6.215952e-28),\n",
              "  ('n15075141', 'toilet_tissue', 0.0),\n",
              "  ('n02317335', 'starfish', 0.0),\n",
              "  ('n02389026', 'sorrel', 0.0)],\n",
              " [('n07613480', 'trifle', 1.0),\n",
              "  ('n02089973', 'English_foxhound', 7.7177677e-16),\n",
              "  ('n04008634', 'projectile', 1.0752686e-23),\n",
              "  ('n02356798', 'fox_squirrel', 3.2921905e-26),\n",
              "  ('n02105056', 'groenendael', 2.0305096e-29)],\n",
              " [('n07613480', 'trifle', 1.0),\n",
              "  ('n02089973', 'English_foxhound', 6.297742e-22),\n",
              "  ('n01855032', 'red-breasted_merganser', 1.5645254e-22),\n",
              "  ('n02356798', 'fox_squirrel', 5.7666127e-26),\n",
              "  ('n02105056', 'groenendael', 2.2578738e-28)],\n",
              " [('n03773504', 'missile', 0.75481325),\n",
              "  ('n04008634', 'projectile', 0.24518664),\n",
              "  ('n07613480', 'trifle', 1.0522408e-07),\n",
              "  ('n02356798', 'fox_squirrel', 1.0684148e-24),\n",
              "  ('n04332243', 'strainer', 8.807334e-25)],\n",
              " [('n07613480', 'trifle', 1.0),\n",
              "  ('n01688243', 'frilled_lizard', 1.7820327e-08),\n",
              "  ('n02089973', 'English_foxhound', 4.449388e-09),\n",
              "  ('n03706229', 'magnetic_compass', 1.5135047e-09),\n",
              "  ('n02883205', 'bow_tie', 6.0803135e-10)],\n",
              " [('n02356798', 'fox_squirrel', 0.99951386),\n",
              "  ('n04254777', 'sock', 0.00048618217),\n",
              "  ('n01688243', 'frilled_lizard', 3.090615e-08),\n",
              "  ('n02105056', 'groenendael', 2.133753e-09),\n",
              "  ('n01560419', 'bulbul', 9.708553e-10)]]"
            ]
          },
          "metadata": {
            "tags": []
          },
          "execution_count": 277
        }
      ]
    },
    {
      "cell_type": "markdown",
      "metadata": {
        "id": "gJlCX4ISZ9GS",
        "colab_type": "text"
      },
      "source": [
        "PREPROCESS INPUT METHOD"
      ]
    },
    {
      "cell_type": "code",
      "metadata": {
        "id": "-DG7FHXTaAdA",
        "colab_type": "code",
        "colab": {}
      },
      "source": [
        "X_test_processed = preprocess_input(X_test)"
      ],
      "execution_count": 0,
      "outputs": []
    },
    {
      "cell_type": "code",
      "metadata": {
        "id": "op_aSrJ0aEww",
        "colab_type": "code",
        "colab": {}
      },
      "source": [
        "preds2 = model.predict(X_test_processed)"
      ],
      "execution_count": 0,
      "outputs": []
    },
    {
      "cell_type": "code",
      "metadata": {
        "id": "k9VkBryQaMVx",
        "colab_type": "code",
        "colab": {
          "base_uri": "https://localhost:8080/",
          "height": 1000
        },
        "outputId": "7e19523d-74c8-47f5-fcb0-b7c04d761c91"
      },
      "source": [
        "labels2 = decode_predictions(preds2) \n",
        "labels2"
      ],
      "execution_count": 280,
      "outputs": [
        {
          "output_type": "execute_result",
          "data": {
            "text/plain": [
              "[[('n04522168', 'vase', 0.5248559),\n",
              "  ('n03991062', 'pot', 0.12285488),\n",
              "  ('n02206856', 'bee', 0.025769163),\n",
              "  ('n01833805', 'hummingbird', 0.024114514),\n",
              "  ('n11939491', 'daisy', 0.019627241)],\n",
              " [('n01641577', 'bullfrog', 0.96829337),\n",
              "  ('n02655020', 'puffer', 0.017185627),\n",
              "  ('n01644900', 'tailed_frog', 0.004709176),\n",
              "  ('n01667778', 'terrapin', 0.004080356),\n",
              "  ('n04090263', 'rifle', 0.00042536797)],\n",
              " [('n02190166', 'fly', 0.9587819),\n",
              "  ('n02206856', 'bee', 0.03673792),\n",
              "  ('n02256656', 'cicada', 0.003765972),\n",
              "  ('n02259212', 'leafhopper', 0.00023085815),\n",
              "  ('n02229544', 'cricket', 9.10187e-05)],\n",
              " [('n04258138', 'solar_dish', 0.6805334),\n",
              "  ('n03249569', 'drum', 0.07789603),\n",
              "  ('n03250847', 'drumstick', 0.039112385),\n",
              "  ('n04332243', 'strainer', 0.02117694),\n",
              "  ('n03920288', 'Petri_dish', 0.017550241)],\n",
              " [('n11939491', 'daisy', 0.5825262),\n",
              "  ('n04476259', 'tray', 0.12796682),\n",
              "  ('n02840245', 'binder', 0.03889601),\n",
              "  ('n04136333', 'sarong', 0.034323305),\n",
              "  ('n04209239', 'shower_curtain', 0.026906608)],\n",
              " [('n01644900', 'tailed_frog', 0.8221973),\n",
              "  ('n01644373', 'tree_frog', 0.08378969),\n",
              "  ('n01641577', 'bullfrog', 0.08240526),\n",
              "  ('n01687978', 'agama', 0.007627461),\n",
              "  ('n01667778', 'terrapin', 0.0015135817)],\n",
              " [('n01644373', 'tree_frog', 0.9648375),\n",
              "  ('n01644900', 'tailed_frog', 0.02323579),\n",
              "  ('n01641577', 'bullfrog', 0.009351133),\n",
              "  ('n02236044', 'mantis', 0.0014975887),\n",
              "  ('n02226429', 'grasshopper', 0.000483458)],\n",
              " [('n03991062', 'pot', 0.66102403),\n",
              "  ('n13052670', 'hen-of-the-woods', 0.07797049),\n",
              "  ('n01641577', 'bullfrog', 0.030694231),\n",
              "  ('n12620546', 'hip', 0.018599192),\n",
              "  ('n13044778', 'earthstar', 0.016886247)],\n",
              " [('n01641577', 'bullfrog', 0.87307143),\n",
              "  ('n01698640', 'American_alligator', 0.08031089),\n",
              "  ('n01644900', 'tailed_frog', 0.046094827),\n",
              "  ('n02398521', 'hippopotamus', 0.00033012714),\n",
              "  ('n01630670', 'common_newt', 0.0001052386)],\n",
              " [('n04033995', 'quilt', 0.44436345),\n",
              "  ('n04209239', 'shower_curtain', 0.12068251),\n",
              "  ('n03930313', 'picket_fence', 0.055240516),\n",
              "  ('n03938244', 'pillow', 0.042601526),\n",
              "  ('n04522168', 'vase', 0.04182922)],\n",
              " [('n01737021', 'water_snake', 0.48456988),\n",
              "  ('n02017213', 'European_gallinule', 0.123803176),\n",
              "  ('n01641577', 'bullfrog', 0.087294854),\n",
              "  ('n02363005', 'beaver', 0.071421996),\n",
              "  ('n02018207', 'American_coot', 0.028528614)],\n",
              " [('n13052670', 'hen-of-the-woods', 0.4679195),\n",
              "  ('n07734744', 'mushroom', 0.09797608),\n",
              "  ('n13044778', 'earthstar', 0.08988167),\n",
              "  ('n04435653', 'tile_roof', 0.032258928),\n",
              "  ('n03804744', 'nail', 0.031998347)],\n",
              " [('n11939491', 'daisy', 0.5797468),\n",
              "  ('n03598930', 'jigsaw_puzzle', 0.14389987),\n",
              "  ('n02795169', 'barrel', 0.019979253),\n",
              "  ('n04326547', 'stone_wall', 0.018980868),\n",
              "  ('n03457902', 'greenhouse', 0.017992252)],\n",
              " [('n11939491', 'daisy', 0.4906162),\n",
              "  ('n02280649', 'cabbage_butterfly', 0.1292405),\n",
              "  ('n01770081', 'harvestman', 0.05580131),\n",
              "  ('n01944390', 'snail', 0.028438807),\n",
              "  ('n02190166', 'fly', 0.018833436)],\n",
              " [('n01644373', 'tree_frog', 0.982177),\n",
              "  ('n01644900', 'tailed_frog', 0.01736171),\n",
              "  ('n01641577', 'bullfrog', 0.00032892797),\n",
              "  ('n01693334', 'green_lizard', 0.000101378566),\n",
              "  ('n01675722', 'banded_gecko', 9.503878e-06)]]"
            ]
          },
          "metadata": {
            "tags": []
          },
          "execution_count": 280
        }
      ]
    },
    {
      "cell_type": "markdown",
      "metadata": {
        "id": "yOuUSdzea631",
        "colab_type": "text"
      },
      "source": [
        "****There are several frog images in the image dataset with labels like bullfrog, tailed frog, and tree frog. Thus, our model was able to identify these images accurately."
      ]
    },
    {
      "cell_type": "markdown",
      "metadata": {
        "id": "RRclCIa7aY2l",
        "colab_type": "text"
      },
      "source": [
        "The model is returning accurate predictions after applying the ResNetV50 preprocess input function. If we don't apply this function, the model cannot accurately identify the images and labels. This is a very important lesson from this assignment. "
      ]
    },
    {
      "cell_type": "markdown",
      "metadata": {
        "colab_type": "text",
        "id": "XEuhvSu7O5Rf"
      },
      "source": [
        "<a id=\"p3\"></a>\n",
        "## Part 3 - Autoencoders\n",
        "\n",
        "Describe a use case for an autoencoder given that an autoencoder tries to predict its own input. \n",
        "\n",
        "An autoencoder can be used for denoising. The code layer helps the autoencoder to learn an intelligent representation of the data and learn its useful features. The denoising autoencoder subtracts the noise and produces meaningful data.\n",
        "Autoencoders can also be used for sequence to sequence prediction e.g. time series data and text data in combination with LSTM. "
      ]
    },
    {
      "cell_type": "markdown",
      "metadata": {
        "colab_type": "text",
        "id": "626zYgjkO7Vq"
      },
      "source": [
        "<a id=\"p4\"></a>\n",
        "## Part 4 - More..."
      ]
    },
    {
      "cell_type": "markdown",
      "metadata": {
        "colab_type": "text",
        "id": "__lDWfcUO8oo"
      },
      "source": [
        "Answer the following questions, with a target audience of a fellow Data Scientist:\n",
        "\n",
        "- What do you consider your strongest area, as a Data Scientist?\n",
        "- What area of Data Science would you most like to learn more about, and why?\n",
        "- Where do you think Data Science will be in 5 years?\n",
        "- What are the threats posed by AI to our society?\n",
        "- How do you think we can counteract those threats? \n",
        "- Do you think achieving General Artifical Intelligence is ever possible?\n",
        "\n",
        "1. My strongest areas as a data scientist are deep learning (neural networks), NLP and predictive analytics. \n",
        "2. I would like to learn more about GANS and reinforcement learning. GANS and reinforcement learning have several useful cases. GANS are used in drug discovery, and I am interested in working in pharma/biotech industry. \n",
        "3. Data science is moving towards AutoML, so predictive analytics is becoming easily available to the general population, though a data scientist can do feature engineering, data cleaning and better data visualizations. Also, data engineering and compter science skills will become more important. Deep learning and neural netowrks will have applications in specific industries like self driving cars or big techs like Google, Facebook, etc. However, being good at deep learning can help a data scientist to land a job at a big tech company.\n",
        "4. AI is posing threats like generation of fake news by text generators at present. The sci fi scenario of intelligent machines or robots that can fight with human and cause their extinction is still though many decades away at the least. Self driving cars are still not perfect and there have been cases where people relied too much on a Tesla with autopilot feature on and slept at the wheel resulting in a fatal car crash. AI is also being used by hackers to weaponize malware and do attacks to ovecome cybersecurity solutions which is another threat.\n",
        "- Reinforcement learning has shown some signs of AGI being possible. Many companies are working on autonomous drones and robots and some have been successful. AI has shown some ability to beat human ability in games like chess and Go but it is due to the ability of computers to do complex calculations faster than humans. However, the scenario of a machine that can acquire wordly knowledge and perform at human ability in all aspects like vision, language, intellect seems far fetched at present. "
      ]
    },
    {
      "cell_type": "markdown",
      "metadata": {
        "colab_type": "text",
        "id": "_Hoqe3mM_Mtc"
      },
      "source": [
        "## Congratulations! \n",
        "\n",
        "Thank you for your hard work, and congratulations! You've learned a lot, and you should proudly call yourself a Data Scientist.\n"
      ]
    },
    {
      "cell_type": "markdown",
      "metadata": {
        "id": "RIM8owPadd6h",
        "colab_type": "text"
      },
      "source": [
        "Thank you for teaching me all the interesting things. I really appreciate Lambda for the excellent education and thank our instructor Bruno."
      ]
    },
    {
      "cell_type": "code",
      "metadata": {
        "id": "2pMJBYKbtVZU",
        "colab_type": "code",
        "outputId": "5cd6441a-d276-41a6-aa55-bf8a2799f389",
        "colab": {
          "base_uri": "https://localhost:8080/",
          "height": 320
        }
      },
      "source": [
        "from IPython.display import HTML\n",
        "\n",
        "HTML(\"\"\"<iframe src=\"https://giphy.com/embed/26xivLqkv86uJzqWk\" width=\"480\" height=\"270\" frameBorder=\"0\" class=\"giphy-embed\" allowFullScreen></iframe><p><a href=\"https://giphy.com/gifs/mumm-champagne-saber-26xivLqkv86uJzqWk\">via GIPHY</a></p>\"\"\")"
      ],
      "execution_count": 281,
      "outputs": [
        {
          "output_type": "execute_result",
          "data": {
            "text/html": [
              "<iframe src=\"https://giphy.com/embed/26xivLqkv86uJzqWk\" width=\"480\" height=\"270\" frameBorder=\"0\" class=\"giphy-embed\" allowFullScreen></iframe><p><a href=\"https://giphy.com/gifs/mumm-champagne-saber-26xivLqkv86uJzqWk\">via GIPHY</a></p>"
            ],
            "text/plain": [
              "<IPython.core.display.HTML object>"
            ]
          },
          "metadata": {
            "tags": []
          },
          "execution_count": 281
        }
      ]
    }
  ]
}